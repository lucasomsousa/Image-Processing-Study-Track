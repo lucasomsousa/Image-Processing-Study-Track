{
  "nbformat": 4,
  "nbformat_minor": 0,
  "metadata": {
    "colab": {
      "name": "tp_ima_206_ae_for_students.ipynb",
      "provenance": [],
      "collapsed_sections": []
    },
    "kernelspec": {
      "name": "python3",
      "display_name": "Python 3"
    },
    "language_info": {
      "name": "python"
    }
  },
  "cells": [
    {
      "cell_type": "markdown",
      "source": [
        "# Lucas Oliveira Machado de Sousa"
      ],
      "metadata": {
        "id": "G2bj-nrvyxl1"
      }
    },
    {
      "cell_type": "markdown",
      "metadata": {
        "id": "TdpPHz2Lp6VD"
      },
      "source": [
        "# TP Coding an autoencoder in tensorflow/keras\n",
        "\n",
        "Author : Alasdair Newson\n",
        "\n",
        "alasdair.newson@telecom-paris.fr\n",
        "\n",
        "## Objective:\n",
        "\n",
        "The goal of this TP is to explore autoencoders and variational autoencoders applied to a simple dataset. In this first part, we will look at an autoencoder applied to MNIST.\n",
        "\n",
        "### Your task:\n",
        "You need to add the missing parts in the code (parts between # --- START CODE HERE and # --- END CODE HERE or # FILL IN CODE)\n",
        "\n",
        "First of all, let's load some packages"
      ]
    },
    {
      "cell_type": "code",
      "metadata": {
        "id": "JqNeIJ8Op8Ao"
      },
      "source": [
        "import pdb\n",
        "import matplotlib.pyplot as plt\n",
        "import numpy as np\n",
        "import os\n",
        "\n",
        "from tensorflow.keras.datasets import mnist\n",
        "from tensorflow.keras.layers import Input, Dense, Reshape, Flatten, Dropout, BatchNormalization, Activation, ZeroPadding2D, MaxPooling2D, LeakyReLU\n",
        "from tensorflow.keras.layers import UpSampling2D, Conv2D, Conv2DTranspose\n",
        "from tensorflow.keras.models import Sequential, Model, load_model\n",
        "from tensorflow.keras.optimizers import Adam\n"
      ],
      "execution_count": null,
      "outputs": []
    },
    {
      "cell_type": "markdown",
      "metadata": {
        "id": "Hyj5dj_eui9D"
      },
      "source": [
        "First, we define a function to load the mnist dataset."
      ]
    },
    {
      "cell_type": "code",
      "metadata": {
        "id": "4YPLKlPrufSk"
      },
      "source": [
        "def load_data():\n",
        "  (X_train, Y_train_scalar), (X_test, Y_test_scalar) = mnist.load_data()\n",
        "\n",
        "  n_max = 10000\n",
        "  X_train = X_train[0:n_max,:,:]\n",
        "  X_test = X_test[0:n_max,:,:]\n",
        "  Y_train_scalar = Y_train_scalar[0:n_max]\n",
        "  Y_test_scalar = Y_test_scalar[0:n_max]\n",
        "\n",
        "  # normalise images between 0 and 1\n",
        "  X_train = X_train/255.0\n",
        "  X_test = X_test/255.0\n",
        "  #add a channel dimension, if need be (for mnist data)\n",
        "  if(X_train.ndim ==3):\n",
        "    X_train = np.expand_dims(X_train, axis=3)\n",
        "    X_test = np.expand_dims(X_test, axis=3)\n",
        "  return X_train,X_test"
      ],
      "execution_count": null,
      "outputs": []
    },
    {
      "cell_type": "markdown",
      "metadata": {
        "id": "t-bkK4ktwfvC"
      },
      "source": [
        "Now, we define the general parameters of the autoencoder"
      ]
    },
    {
      "cell_type": "code",
      "metadata": {
        "id": "mD56EDzbvUxq",
        "colab": {
          "base_uri": "https://localhost:8080/"
        },
        "outputId": "2a943a70-5fa1-41ee-dab8-3e2c2e9da1d4"
      },
      "source": [
        "X_train,X_test = load_data()\n",
        "\n",
        "# autoencoder parameters\n",
        "optimizer = Adam(0.01, 0.5) #\n",
        "img_rows = X_train.shape[1]\n",
        "img_cols = X_train.shape[2]\n",
        "img_channels = X_train.shape[3]\n",
        "img_size = X_train.shape[1] * X_train.shape[2] * X_train.shape[3]\n",
        "img_shape = (img_rows, img_cols, img_channels)\n",
        "z_dim = 10\n",
        "batch_size = 64\n",
        "n_epochs = 40"
      ],
      "execution_count": null,
      "outputs": [
        {
          "output_type": "stream",
          "name": "stdout",
          "text": [
            "Downloading data from https://storage.googleapis.com/tensorflow/tf-keras-datasets/mnist.npz\n",
            "11493376/11490434 [==============================] - 0s 0us/step\n",
            "11501568/11490434 [==============================] - 0s 0us/step\n"
          ]
        }
      ]
    },
    {
      "cell_type": "markdown",
      "metadata": {
        "id": "6jLa2-jQwxSI"
      },
      "source": [
        "Now, define the autoencoder architecture. In the first part, we will use the following MLP architecture :\n",
        "\n",
        "Encoder :\n",
        "- Flatten input\n",
        "- Dense layer, output size z_dim\n",
        "- Leaky ReLU, with $\\alpha=0.2$\n",
        "\n",
        "Decoder :\n",
        "- Dense layer, output size 784\n",
        "- Sigmoid Activation\n",
        "- Reshape, to size $28\\times 28\\times 1$\n",
        "\n",
        "For the Reshape operation, use a ```Reshape``` layer"
      ]
    },
    {
      "cell_type": "code",
      "metadata": {
        "id": "5fKIM5x0pxXR"
      },
      "source": [
        "n_pixels = img_rows*img_cols*img_channels\n",
        "\n",
        "#BEGIN FILL IN CODE\n",
        "ae_model = Sequential()\n",
        "\n",
        "#Encoder\n",
        "ae_model.add(Flatten(input_shape=(28,28)))\n",
        "ae_model.add(Dense(z_dim))\n",
        "ae_model.add(LeakyReLU(alpha=0.2))\n",
        "\n",
        "#Decoder\n",
        "ae_model.add(Dense(n_pixels, activation='sigmoid'))\n",
        "ae_model.add(Reshape((28,28,1)))\n",
        "#END FILL IN CODE"
      ],
      "execution_count": null,
      "outputs": []
    },
    {
      "cell_type": "markdown",
      "metadata": {
        "id": "-659aM36xvXX"
      },
      "source": [
        "Now, display the model (summary) and compile it. Use the binary cross-entropy loss, since we are in the case of MNIST."
      ]
    },
    {
      "cell_type": "code",
      "metadata": {
        "id": "wfqX6Brlxjyi",
        "colab": {
          "base_uri": "https://localhost:8080/"
        },
        "outputId": "92e5c4b8-5220-46c4-89f5-dcd86890d1bd"
      },
      "source": [
        "# Build and compile the discriminator\n",
        "# BEGIN FILL IN CODE\n",
        "ae_model.summary()\n",
        "\n",
        "loss = 'binary_crossentropy'\n",
        "ae_model.compile(optimizer=optimizer, loss=loss)\n",
        "\n",
        "# END FILL IN CODE"
      ],
      "execution_count": null,
      "outputs": [
        {
          "output_type": "stream",
          "name": "stdout",
          "text": [
            "Model: \"sequential_8\"\n",
            "_________________________________________________________________\n",
            " Layer (type)                Output Shape              Param #   \n",
            "=================================================================\n",
            " flatten_4 (Flatten)         (None, 784)               0         \n",
            "                                                                 \n",
            " dense_16 (Dense)            (None, 10)                7850      \n",
            "                                                                 \n",
            " leaky_re_lu_8 (LeakyReLU)   (None, 10)                0         \n",
            "                                                                 \n",
            " dense_17 (Dense)            (None, 784)               8624      \n",
            "                                                                 \n",
            " reshape_7 (Reshape)         (None, 28, 28, 1)         0         \n",
            "                                                                 \n",
            "=================================================================\n",
            "Total params: 16,474\n",
            "Trainable params: 16,474\n",
            "Non-trainable params: 0\n",
            "_________________________________________________________________\n"
          ]
        }
      ]
    },
    {
      "cell_type": "markdown",
      "metadata": {
        "id": "w3EbmswSzJdK"
      },
      "source": [
        "We define a function to carry out testing on the autoencoder model"
      ]
    },
    {
      "cell_type": "code",
      "metadata": {
        "id": "T8jXjdRyzMy2"
      },
      "source": [
        "def test_images(ae_model, test_data):\n",
        "  n_images = 5\n",
        "  idx = np.random.randint(0, test_data.shape[0], n_images)\n",
        "  test_imgs = test_data[idx,:,:,:]\n",
        "\n",
        "  #get output images\n",
        "  output_imgs = ae_model.predict( test_imgs )\n",
        "  \n",
        "  r = 2\n",
        "  c = n_images\n",
        "  fig, axs = plt.subplots(r, c)\n",
        "  for j in range(c):\n",
        "    #black and white images\n",
        "    axs[0,j].imshow(test_imgs[j, :,:,0], cmap='gray')\n",
        "    axs[0,j].axis('off')\n",
        "    axs[1,j].imshow(output_imgs[j, :,:,0], cmap='gray')\n",
        "    axs[1,j].axis('off')\n",
        "  plt.show()"
      ],
      "execution_count": null,
      "outputs": []
    },
    {
      "cell_type": "markdown",
      "metadata": {
        "id": "zO9ATQEiyr3b"
      },
      "source": [
        "### Train the model\n",
        "\n",
        "Now, train the model on the mnist dataset."
      ]
    },
    {
      "cell_type": "code",
      "metadata": {
        "id": "sUXHCtvW2iQ0",
        "colab": {
          "base_uri": "https://localhost:8080/",
          "height": 554
        },
        "outputId": "fc91febb-51a2-4105-eebd-cbb930a3ec2e"
      },
      "source": [
        "# BEGIN FILL IN CODE\n",
        "batch_size = 64\n",
        "epochs = 10\n",
        "history = ae_model.fit(X_train,\n",
        "                       X_train,\n",
        "                       epochs=epochs,\n",
        "                       batch_size=batch_size,\n",
        "                       verbose=1,\n",
        "                       shuffle=True,\n",
        "                       validation_data=(X_test, X_test))\n",
        "# END FILL IN CODE\n",
        "\n",
        "test_images(ae_model, X_test)"
      ],
      "execution_count": null,
      "outputs": [
        {
          "output_type": "stream",
          "name": "stdout",
          "text": [
            "Epoch 1/10\n",
            "157/157 [==============================] - 1s 8ms/step - loss: 0.1504 - val_loss: 0.1518\n",
            "Epoch 2/10\n",
            "157/157 [==============================] - 1s 7ms/step - loss: 0.1504 - val_loss: 0.1526\n",
            "Epoch 3/10\n",
            "157/157 [==============================] - 1s 7ms/step - loss: 0.1503 - val_loss: 0.1533\n",
            "Epoch 4/10\n",
            "157/157 [==============================] - 1s 9ms/step - loss: 0.1502 - val_loss: 0.1518\n",
            "Epoch 5/10\n",
            "157/157 [==============================] - 1s 7ms/step - loss: 0.1502 - val_loss: 0.1524\n",
            "Epoch 6/10\n",
            "157/157 [==============================] - 1s 7ms/step - loss: 0.1502 - val_loss: 0.1521\n",
            "Epoch 7/10\n",
            "157/157 [==============================] - 1s 9ms/step - loss: 0.1501 - val_loss: 0.1527\n",
            "Epoch 8/10\n",
            "157/157 [==============================] - 1s 7ms/step - loss: 0.1500 - val_loss: 0.1528\n",
            "Epoch 9/10\n",
            "157/157 [==============================] - 1s 9ms/step - loss: 0.1499 - val_loss: 0.1528\n",
            "Epoch 10/10\n",
            "157/157 [==============================] - 1s 7ms/step - loss: 0.1498 - val_loss: 0.1514\n"
          ]
        },
        {
          "output_type": "display_data",
          "data": {
            "text/plain": [
              "<Figure size 432x288 with 10 Axes>"
            ],
            "image/png": "[encoded data removed]"
          },
          "metadata": {
            "needs_background": "light"
          }
        }
      ]
    },
    {
      "cell_type": "markdown",
      "metadata": {
        "id": "ktuGdSig5qC7"
      },
      "source": [
        "## Convolutional model\n",
        "\n",
        "Now, we are going to implement a convolutional architecture (with two dense layers in the middle) and compare the results. Implement the following architecture :\n",
        "\n",
        "Encoder :\n",
        "- 2D convolution, filter size $3\\times3$, 8 filters, stride=(2,2), padding=\"SAME\"\n",
        "- LeakyReLU ($\\alpha=0.2$)\n",
        "- 2D convolution, filter size $3\\times3$, 4 filters, stride=(2,2), padding=\"SAME\"\n",
        "- LeakyReLU ($\\alpha=0.2$)\n",
        "- Flatten tensor\n",
        "- Dense layer, output size z_dim\n",
        "\n",
        "Decoder :\n",
        "- Dense layer, output size 196\n",
        "- LeakyReLU ($\\alpha=0.2$)\n",
        "- Reshape $(7\\times7\\times 4)$\n",
        "- 2D transposed convolution, filter size $3\\times3$, 8 filters, stride=(2,2), padding=\"SAME\"\n",
        "- LeakyReLU ($\\alpha=0.2$)\n",
        "- 2D transposed convolution, filter size $3\\times3$, 1 filter, stride=(2,2), padding=\"SAME\"\n",
        "- Sigmoid activation\n",
        "\n",
        "The sizes of the tensors in the encoder and the decoder should be :\n",
        "- $28 \\times 28 \\times 1$ -> $14 \\times 14 \\times 8$ -> $7 \\times 7 \\times 4$ -> z_dim\n",
        "- z_dim -> $7 \\times 7 \\times 4$ -> $14 \\times 14 \\times 8$ -> $28 \\times 28 \\times 1$\n",
        "\n",
        "Use the previous code as an example, and implement and train the architecture."
      ]
    },
    {
      "cell_type": "code",
      "metadata": {
        "id": "uWuikdCrvZ1V"
      },
      "source": [
        "conv_ae_model = Sequential()\n",
        "#BEGIN FILL IN CODE\n",
        "\n",
        "#Encoder\n",
        "conv_ae_model.add(Conv2D(filters=8, kernel_size=(3,3), strides=(2,2), padding='same',input_shape=(28,28,1)))\n",
        "conv_ae_model.add(LeakyReLU(alpha=0.2))\n",
        "conv_ae_model.add(Conv2D(filters=4, kernel_size=(3,3), strides=(2,2), padding='same'))\n",
        "conv_ae_model.add(LeakyReLU(alpha=0.2))\n",
        "conv_ae_model.add(Flatten())\n",
        "conv_ae_model.add(Dense(z_dim))\n",
        "\n",
        "#Decoder\n",
        "conv_ae_model.add(Dense(196))\n",
        "conv_ae_model.add(LeakyReLU(alpha=0.2))\n",
        "conv_ae_model.add(Reshape((7,7,4)))\n",
        "conv_ae_model.add(Conv2DTranspose(filters=8, kernel_size=(3,3), strides=(2,2), padding='same'))\n",
        "conv_ae_model.add(LeakyReLU(alpha=0.2))\n",
        "conv_ae_model.add(Conv2DTranspose(filters=1, kernel_size=(3,3), strides=(2,2), padding='same', activation='sigmoid'))\n",
        "\n",
        "#END FILL IN CODE"
      ],
      "execution_count": null,
      "outputs": []
    },
    {
      "cell_type": "code",
      "source": [
        "conv_ae_model.summary()\n",
        "\n",
        "conv_ae_model.compile(optimizer=optimizer, loss=loss)\n",
        "\n",
        "# BEGIN FILL IN CODE\n",
        "batch_size = 32\n",
        "epochs = 10\n",
        "history = conv_ae_model.fit(X_train,\n",
        "                       X_train,\n",
        "                       epochs=epochs,\n",
        "                       batch_size=batch_size,\n",
        "                       verbose=1,\n",
        "                       shuffle=True,\n",
        "                       validation_data=(X_test, X_test))\n",
        "# END FILL IN CODE\n",
        "\n",
        "test_images(conv_ae_model, X_test)"
      ],
      "metadata": {
        "colab": {
          "base_uri": "https://localhost:8080/",
          "height": 1000
        },
        "id": "lTOphkCI6sUq",
        "outputId": "91413ff6-0aa1-4410-c59e-f0e3166671a9"
      },
      "execution_count": null,
      "outputs": [
        {
          "output_type": "stream",
          "name": "stdout",
          "text": [
            "Model: \"sequential_11\"\n",
            "_________________________________________________________________\n",
            " Layer (type)                Output Shape              Param #   \n",
            "=================================================================\n",
            " conv2d_3 (Conv2D)           (None, 14, 14, 8)         80        \n",
            "                                                                 \n",
            " leaky_re_lu_13 (LeakyReLU)  (None, 14, 14, 8)         0         \n",
            "                                                                 \n",
            " conv2d_4 (Conv2D)           (None, 7, 7, 4)           292       \n",
            "                                                                 \n",
            " leaky_re_lu_14 (LeakyReLU)  (None, 7, 7, 4)           0         \n",
            "                                                                 \n",
            " flatten_6 (Flatten)         (None, 196)               0         \n",
            "                                                                 \n",
            " dense_20 (Dense)            (None, 10)                1970      \n",
            "                                                                 \n",
            " dense_21 (Dense)            (None, 196)               2156      \n",
            "                                                                 \n",
            " leaky_re_lu_15 (LeakyReLU)  (None, 196)               0         \n",
            "                                                                 \n",
            " reshape_9 (Reshape)         (None, 7, 7, 4)           0         \n",
            "                                                                 \n",
            " conv2d_transpose_2 (Conv2DT  (None, 14, 14, 8)        296       \n",
            " ranspose)                                                       \n",
            "                                                                 \n",
            " leaky_re_lu_16 (LeakyReLU)  (None, 14, 14, 8)         0         \n",
            "                                                                 \n",
            " conv2d_transpose_3 (Conv2DT  (None, 28, 28, 1)        73        \n",
            " ranspose)                                                       \n",
            "                                                                 \n",
            "=================================================================\n",
            "Total params: 4,867\n",
            "Trainable params: 4,867\n",
            "Non-trainable params: 0\n",
            "_________________________________________________________________\n",
            "Epoch 1/10\n",
            "313/313 [==============================] - 5s 14ms/step - loss: 0.1402 - val_loss: 0.1418\n",
            "Epoch 2/10\n",
            "313/313 [==============================] - 4s 13ms/step - loss: 0.1394 - val_loss: 0.1413\n",
            "Epoch 3/10\n",
            "313/313 [==============================] - 4s 14ms/step - loss: 0.1388 - val_loss: 0.1398\n",
            "Epoch 4/10\n",
            "313/313 [==============================] - 4s 14ms/step - loss: 0.1381 - val_loss: 0.1420\n",
            "Epoch 5/10\n",
            "313/313 [==============================] - 4s 13ms/step - loss: 0.1375 - val_loss: 0.1380\n",
            "Epoch 6/10\n",
            "313/313 [==============================] - 4s 13ms/step - loss: 0.1371 - val_loss: 0.1377\n",
            "Epoch 7/10\n",
            "313/313 [==============================] - 4s 14ms/step - loss: 0.1367 - val_loss: 0.1388\n",
            "Epoch 8/10\n",
            "313/313 [==============================] - 4s 13ms/step - loss: 0.1363 - val_loss: 0.1364\n",
            "Epoch 9/10\n",
            "313/313 [==============================] - 4s 13ms/step - loss: 0.1360 - val_loss: 0.1354\n",
            "Epoch 10/10\n",
            "313/313 [==============================] - 4s 13ms/step - loss: 0.1357 - val_loss: 0.1371\n"
          ]
        },
        {
          "output_type": "display_data",
          "data": {
            "text/plain": [
              "<Figure size 432x288 with 10 Axes>"
            ],
            "image/png": "[encoded data removed]"
          },
          "metadata": {
            "needs_background": "light"
          }
        }
      ]
    },
    {
      "cell_type": "markdown",
      "metadata": {
        "id": "WWs6uhIa-hko"
      },
      "source": [
        "Are the performances better with this model ? Compare the number of parameters in the MLP and convolutional case"
      ]
    },
    {
      "cell_type": "markdown",
      "source": [
        "**Answer:** The performance is visually better (less blurry than with the previous model, and we can recognize all numbers shown), with about just 1/4 of the number of parameters of the previous model."
      ],
      "metadata": {
        "id": "cMjhQPfY9GCO"
      }
    },
    {
      "cell_type": "markdown",
      "metadata": {
        "id": "o5TmOfau_dhZ"
      },
      "source": [
        "## Denoising autoencoder\n",
        "\n",
        "In this part, we take the previous architecture, but now we implement a __denoising__ autoencoder. For this, we simply add Gaussian noise to the input during training, and require the autoencoder to reconstruct the non-noisy ground truth. You can do add the noise using the following function :\n",
        "- np.random.normal(loc=0.0, scale=1.0, size=curr_batch.shape)\n",
        "\n",
        "First, we modify the ```test_images``` function to take into account a noisy input."
      ]
    },
    {
      "cell_type": "code",
      "metadata": {
        "id": "o6iYCO0S_5I_"
      },
      "source": [
        "def test_images(ae_model, test_data, sigma):\n",
        "  n_images = 5\n",
        "  idx = np.random.randint(0, test_data.shape[0], n_images)\n",
        "  test_imgs = test_data[idx,:,:,:]\n",
        "\n",
        "  #get output images\n",
        "  test_imgs = np.clip(test_imgs + sigma * np.random.normal(loc=0.0, scale=1.0, size=test_imgs.shape),0.,1.)\n",
        "  output_imgs = ae_model.predict( test_imgs )\n",
        "  \n",
        "  r = 2\n",
        "  c = n_images\n",
        "  fig, axs = plt.subplots(r, c)\n",
        "  for j in range(c):\n",
        "    #black and white images\n",
        "    axs[0,j].imshow(test_imgs[j, :,:,0], cmap='gray')\n",
        "    axs[0,j].axis('off')\n",
        "    axs[1,j].imshow(output_imgs[j, :,:,0], cmap='gray')\n",
        "    axs[1,j].axis('off')\n",
        "  plt.show()"
      ],
      "execution_count": null,
      "outputs": []
    },
    {
      "cell_type": "markdown",
      "metadata": {
        "id": "nbRhMZv6_5y4"
      },
      "source": [
        "Now, use the previous codes to implement the denoising autoencoder. Use either the MLP architecture or the convolutional architecture.\n",
        "\n",
        "__IMPORTANT NOTE__ For this part of the TP, it is useful to use a custom training process (to add the noise to a batch). For this, you can use the following function :\n",
        "\n",
        "- loss_value = ae_model.train_on_batch(X,Y)\n",
        "\n",
        "This allows you to create a custom batch. X should be the noisy batch, and Y should be the non-noisy batch\n",
        "\n",
        "In this case, to simplify things, __do not worry about carrying out the complete batch over the database__, simply iterate n_iters times, and select a random batch at each iteration. To select a random set (of size batch_size) of integers between 0 and X_train.shape, use :\n",
        "\n",
        "- np.random.randint(0, X_train.shape[0], batch_size)\n",
        "\n",
        "Use sigma = 25.0/255.0"
      ]
    },
    {
      "cell_type": "code",
      "metadata": {
        "id": "MUU7ky7D_bV7",
        "colab": {
          "base_uri": "https://localhost:8080/"
        },
        "outputId": "8e646186-a8fa-4dea-cada-adbf0518610e"
      },
      "source": [
        "sigma = 25.0/255.0\n",
        "n_iters = 1000\n",
        "display_loss_step = 100\n",
        "batch_size = 64\n",
        "\n",
        "#BEGIN FILL IN CODE\n",
        "\n",
        "def add_noise(img, sigma):\n",
        "  img_shape = img.shape\n",
        "  img = img.flatten()\n",
        "  noisy_img = img + sigma * np.random.normal(\n",
        "        loc=0.0, scale=1.0, size=img.shape\n",
        "  )\n",
        "  return noisy_img.reshape(img_shape)\n",
        "\n",
        "for i in range(n_iters):\n",
        "  idx = np.random.randint(0, X_train.shape[0], batch_size)\n",
        "  clean_batch = X_train[idx, :,:,:]\n",
        "  noisy_batch = np.array([add_noise(im, sigma) for im in clean_batch])\n",
        "  loss_value = conv_ae_model.train_on_batch(noisy_batch, clean_batch)\n",
        "  if not i % display_loss_step:\n",
        "    print(\"Step \", i, \", Loss = \", loss_value)\n",
        "\n",
        "\n",
        "# END FILL IN CODE"
      ],
      "execution_count": null,
      "outputs": [
        {
          "output_type": "stream",
          "name": "stdout",
          "text": [
            "Step  0 , Loss =  0.14937801659107208\n",
            "Step  100 , Loss =  0.1306898146867752\n",
            "Step  200 , Loss =  0.12893074750900269\n",
            "Step  300 , Loss =  0.1330653578042984\n",
            "Step  400 , Loss =  0.1316480189561844\n",
            "Step  500 , Loss =  0.13841958343982697\n",
            "Step  600 , Loss =  0.13490548729896545\n",
            "Step  700 , Loss =  0.14457553625106812\n",
            "Step  800 , Loss =  0.13525399565696716\n",
            "Step  900 , Loss =  0.13892996311187744\n"
          ]
        }
      ]
    },
    {
      "cell_type": "code",
      "source": [
        "test_images(conv_ae_model, X_test, sigma)"
      ],
      "metadata": {
        "colab": {
          "base_uri": "https://localhost:8080/",
          "height": 207
        },
        "id": "7HDb9_7jFo39",
        "outputId": "f07add5b-e88d-4cf5-b124-7949553417ac"
      },
      "execution_count": null,
      "outputs": [
        {
          "output_type": "display_data",
          "data": {
            "text/plain": [
              "<Figure size 432x288 with 10 Axes>"
            ],
            "image/png": "[encoded data removed]"
          },
          "metadata": {
            "needs_background": "light"
          }
        }
      ]
    }
  ]
}