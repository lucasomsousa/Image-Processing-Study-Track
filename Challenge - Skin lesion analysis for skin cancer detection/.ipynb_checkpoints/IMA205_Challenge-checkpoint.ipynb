{
 "cells": [
  {
   "cell_type": "markdown",
   "id": "3310344b",
   "metadata": {},
   "source": [
    "## Lucas Oliveira Machado de Sousa\n",
    "### IMA205 - Challenge 2022\n",
    "### Classification of dermoscopic images of skin lesions"
   ]
  },
  {
   "cell_type": "markdown",
   "id": "6973b580",
   "metadata": {},
   "source": [
    "## 1) Introduction\n",
    "\n",
    "The incidence rate of skin cancer in the United States raised from 1 person out of 100 000 in 1930 to around 13 individuals out of 100 000 in 1991, and a similar growth was observed in Europe [[1]](https://pubmed.ncbi.nlm.nih.gov/11341712/). Melanoma, for instance, the deadliest form of skin cancer, can be treated with a high survival rate if diagnosed early, with a significant drop after metastatis [[2]](https://www.ncbi.nlm.nih.gov/pmc/articles/PMC6804807/). \n",
    "\n",
    "The goal of this challenge is to use approaches from scientific literature to classify dermoscopic images of skin lesions among eight different diagnosis: \n",
    "\n",
    "1. Melanoma\n",
    "2. Melanocytic nevus\n",
    "3. Basal cell carcinoma\n",
    "4. Actinic keratosis\n",
    "5. Benign keratosis\n",
    "6. Dermatofibroma\n",
    "7. Vascular lesion\n",
    "8. Squamous cell carcinoma\n",
    "\n",
    "Two approaches were put to test in this report, the first one consisting in extracting Asymmetry, Border irregularity, Colour and Dimension features (also known as ABCD features) from the images to classify them, while the second approach consists in the use of neural networks."
   ]
  },
  {
   "cell_type": "markdown",
   "id": "ff95d9c9",
   "metadata": {},
   "source": [
    "## 2) The dataset\n",
    "\n",
    "The datasets consists of 25331 dermoscopic images of skin lesions and their metadata (age and sex of the patient and anatomical position of the lesion), as well as some ground-truth segmentations. The corresponding labels of 75% of the data-set (i.e. 18998) are provided, but the other 25% (i.e. 6333) are unknown and used as the test set."
   ]
  },
  {
   "cell_type": "code",
   "execution_count": 250,
   "id": "431b9055",
   "metadata": {},
   "outputs": [],
   "source": [
    "import numpy as np\n",
    "import pandas as pd\n",
    "import matplotlib.pyplot as plt\n",
    "from skimage.io import imread\n",
    "from sklearn.preprocessing import StandardScaler, MinMaxScaler\n",
    "from sklearn.model_selection import train_test_split\n",
    "from sklearn.svm import SVC\n",
    "from pathlib import Path"
   ]
  },
  {
   "cell_type": "markdown",
   "id": "3dcc5a63",
   "metadata": {},
   "source": [
    "First, it's necessary to get each image's filename. The images shouldn't be loaded all at once, since it'd raise some problems regarding memory allocation. "
   ]
  },
  {
   "cell_type": "code",
   "execution_count": 252,
   "id": "a6ea1697",
   "metadata": {},
   "outputs": [],
   "source": [
    "Train_directory = \"./Train/Train/\"\n",
    "Test_directory = \"./Test/Test/\""
   ]
  },
  {
   "cell_type": "code",
   "execution_count": 253,
   "id": "484025b8",
   "metadata": {},
   "outputs": [
    {
     "name": "stdout",
     "output_type": "stream",
     "text": [
      "Number of images in training set:  18998\n",
      "Number of masks in training set:  1945\n",
      "Number of images in test set:  6333\n",
      "Number of masks in test set:  648\n"
     ]
    }
   ],
   "source": [
    "import glob\n",
    "images_train_fn = np.sort(glob.glob(Train_directory + '*.jpg'))\n",
    "masks_train_fn = np.sort(glob.glob(Train_directory + '*.png'))\n",
    "images_test_fn = np.sort(glob.glob(Test_directory + '*.jpg'))\n",
    "masks_test_fn = np.sort(glob.glob(Test_directory + '*.png'))\n",
    "\n",
    "print(\"Number of images in training set: \", len(images_train_fn))\n",
    "print(\"Number of masks in training set: \", len(masks_train_fn))\n",
    "print(\"Number of images in test set: \", len(images_test_fn))\n",
    "print(\"Number of masks in test set: \", len(masks_test_fn))"
   ]
  },
  {
   "cell_type": "markdown",
   "id": "fcdeeb82",
   "metadata": {},
   "source": [
    "Here it's possible to see the initial challenge with the dataset provided: nearly 90% of the images have no corresponding segmentation. In this work, first these images with a groundtruth segmentation are used to evaluate segmentation methods, and then the segmentation methods are used on the whole set."
   ]
  },
  {
   "cell_type": "markdown",
   "id": "16d98698",
   "metadata": {},
   "source": [
    "The function below creates an ellipse with diameters equal to the shape of the image, in order to mask the image in that ellipse. This way, the black corners on images are replaced by the mean colour of the image. It was shown to improve the Dice Similarity, since there are many images with black borders from the microscope that would mess a little with Otsu's algorithm, used later in masking. "
   ]
  },
  {
   "cell_type": "code",
   "execution_count": 254,
   "id": "4e545c92",
   "metadata": {},
   "outputs": [],
   "source": [
    "fn_train = [name.replace('_seg.png', '.jpg') for name in masks_train_fn]\n",
    "ref_train = [imread(filename, as_gray=True) for filename in masks_train_fn]"
   ]
  },
  {
   "cell_type": "code",
   "execution_count": 255,
   "id": "61813175",
   "metadata": {},
   "outputs": [],
   "source": [
    "from skimage.draw import ellipse\n",
    "\n",
    "def bound_ellipse(im):\n",
    "    rows, cols = im.shape\n",
    "    ell = ellipse(rows//2, cols//2, rows//2, cols//2)\n",
    "    y = ell[0]\n",
    "    x = ell[1]\n",
    "\n",
    "    im_ell = np.ones((rows, cols))\n",
    "    for i in range(len(x)):\n",
    "        c = x[i]\n",
    "        r = y[i]\n",
    "        im_ell[r,c] = 0\n",
    "\n",
    "    im[im_ell > 0] = np.mean(im)\n",
    "    return im"
   ]
  },
  {
   "cell_type": "markdown",
   "id": "6d7dc63b",
   "metadata": {},
   "source": [
    "First, each channel is rescaled to the 0-1 range. The images are resized to a quarter of their size just to evaluate the masking (the groundtruth masks are resized as well) while making computation faster. Using rescaled images would mess with some evaluations of the extracted feature, therefore the image proportions are maintained. A median filter is used to smooth the image as well as reducing artifacts, as in the work of Celebi et al (2007) [[3]](https://www.ncbi.nlm.nih.gov/pmc/articles/PMC3192405/).\n",
    "\n",
    "Finally, an evaluation of Otsu's thresholding method for generating the masks in the dataset is done, also present in the work abovementioned. The biggest connected component on the image is selected to get the area which should correspond to the lesion, and a morphological binary closing is performed to get more regular borders, as well as to fill in the holes which might have been created by the thresholding, as done by Ganster et al (2001) [[1]](https://pubmed.ncbi.nlm.nih.gov/11341712/). To validate how good the segmentation is the Dice Score function from SciPy is used."
   ]
  },
  {
   "cell_type": "code",
   "execution_count": 256,
   "id": "9465377d",
   "metadata": {},
   "outputs": [
    {
     "name": "stdout",
     "output_type": "stream",
     "text": [
      "Reading image  0  out of  1945\n",
      "Reading image  100  out of  1945\n",
      "Reading image  200  out of  1945\n",
      "Reading image  300  out of  1945\n",
      "Reading image  400  out of  1945\n",
      "Reading image  500  out of  1945\n",
      "Reading image  600  out of  1945\n",
      "Reading image  700  out of  1945\n",
      "Reading image  800  out of  1945\n",
      "Reading image  900  out of  1945\n",
      "Reading image  1000  out of  1945\n",
      "Reading image  1100  out of  1945\n",
      "Reading image  1200  out of  1945\n",
      "Reading image  1300  out of  1945\n",
      "Reading image  1400  out of  1945\n",
      "Reading image  1500  out of  1945\n",
      "Reading image  1600  out of  1945\n",
      "Reading image  1700  out of  1945\n",
      "Reading image  1800  out of  1945\n",
      "Reading image  1900  out of  1945\n"
     ]
    }
   ],
   "source": [
    "from scipy.ndimage import median_filter, sobel\n",
    "from skimage.transform import rescale, resize\n",
    "\n",
    "images = []\n",
    "refs = []\n",
    "\n",
    "i = 0\n",
    "for filename in masks_train_fn:\n",
    "    if not i%100: print(\"Reading image \", i, \" out of \", len(masks_train_fn))\n",
    "    im = imread(filename.replace('_seg.png', '.jpg'))[:,:,2]\n",
    "    \n",
    "    # Scaling images\n",
    "    as_columns = im.reshape(-1,1)\n",
    "    im = MinMaxScaler().fit_transform(as_columns).reshape(im.shape)\n",
    "    \n",
    "    imbr = (rescale(im, 0.25, anti_aliasing=True,  order=1, preserve_range=True))\n",
    "    imbr = bound_ellipse(imbr)\n",
    "    imbr = median_filter(imbr, 3)\n",
    "\n",
    "    images.append(imbr)\n",
    "    \n",
    "    ref_mask = imread(filename, as_gray=True)/255\n",
    "    ref_mask = rescale(ref_mask, 0.25, anti_aliasing=False, order=0,  preserve_range=True)\n",
    "    refs.append(ref_mask)\n",
    "    \n",
    "    i+=1"
   ]
  },
  {
   "cell_type": "code",
   "execution_count": 7,
   "id": "e57bd2fd",
   "metadata": {
    "scrolled": true
   },
   "outputs": [
    {
     "name": "stdout",
     "output_type": "stream",
     "text": [
      "Image  0  out of  1945\n",
      "Image  300  out of  1945\n",
      "Image  600  out of  1945\n",
      "Image  900  out of  1945\n",
      "Image  1200  out of  1945\n",
      "Image  1500  out of  1945\n",
      "Image  1800  out of  1945\n"
     ]
    },
    {
     "data": {
      "image/png": "[encoded data removed]",
      "text/plain": [
       "<Figure size 432x288 with 1 Axes>"
      ]
     },
     "metadata": {
      "needs_background": "light"
     },
     "output_type": "display_data"
    },
    {
     "name": "stdout",
     "output_type": "stream",
     "text": [
      "The mean Dice Similarity is  0.731239097185276\n",
      "Percentage of images above the 0.8 Dice Score: 64.93573264781492 %\n"
     ]
    }
   ],
   "source": [
    "from skimage.filters import threshold_otsu\n",
    "from scipy.spatial.distance import dice\n",
    "from skimage.measure import label\n",
    "import skimage.morphology as morpho\n",
    "\n",
    "def get_largest_CC(im):\n",
    "    # Retrieves the largest connected component on an image\n",
    "    labels = label(im)\n",
    "    labels_biggest_area = np.argmax(np.bincount(labels.flatten())[1:])+1\n",
    "    return 1*(labels == labels_biggest_area)\n",
    "\n",
    "def morpho_closing(im, r):\n",
    "    disk = morpho.selem.disk(r)\n",
    "    im_closed = 1*morpho.binary_closing(im, disk)\n",
    "    return im_closed\n",
    "\n",
    "def morpho_opening(im, r):\n",
    "    disk = morpho.selem.disk(r)\n",
    "    im_open = 1*morpho.binary_open(im, disk)\n",
    "    return im_open\n",
    "\n",
    "def morpho_dilation(im, r):\n",
    "    disk = morpho.selem.disk(r)\n",
    "    im_dilated = 1*morpho.binary_dilation(im, disk)\n",
    "    return im_dilated\n",
    "\n",
    "def get_mask(im):\n",
    "    threshold = threshold_otsu(im)\n",
    "    im_mask = 1*(im < threshold)\n",
    "    im_mask = get_largest_CC(im_mask)\n",
    "    im_mask = morpho_dilation(im_mask, 2)\n",
    "    im_mask = morpho_closing(im_mask, 5)\n",
    "    return im_mask\n",
    "\n",
    "diceSimilarity = []\n",
    "masks = []\n",
    "\n",
    "for i in range(len(images)):\n",
    "    if not i%300: print(\"Image \", i, \" out of \", len(masks_train_fn))\n",
    "    im = images[i]\n",
    "    ref_mask = refs[i]    \n",
    "    \n",
    "    im_mask = get_mask(im)\n",
    "    masks.append(im_mask)\n",
    "    \n",
    "    diceSimilarity.append(1-dice(ref_mask.flatten(), im_mask.flatten()))\n",
    "    i += 1\n",
    "    \n",
    "plt.hist(diceSimilarity)\n",
    "plt.title(\"Histogram of dice similarity between reference masks and masks generated using Otsu's threshold\")\n",
    "plt.xlabel(\"Dice similarity\")\n",
    "plt.ylabel(\"Number of samples\")\n",
    "plt.show()\n",
    "\n",
    "print(\"The mean Dice Similarity is \", np.mean(diceSimilarity))\n",
    "print(\"Percentage of images above the 0.8 Dice Score:\", np.sum(np.array(diceSimilarity) > 0.8)/len(diceSimilarity)*100, \"%\")"
   ]
  },
  {
   "cell_type": "markdown",
   "id": "e6edf291",
   "metadata": {},
   "source": [
    "The blue channel was chosen since it was concluded in previous labs that this channel gives the best results in terms of skin lesion segmentation. It's possible to observe above that with this approach a mean dice similarity of 0.73 is obtained, and only 64.9% of images have a dice score greater than 0.8. Approximately 10% of the set has a dice score lower than 0.1, which is extremely low. \n",
    "\n",
    "As noted by R. B. Oliveira et al [[4]](https://repositorio.unesp.br/bitstream/handle/11449/161717/WOS000379634700005.pdf), \"the accuracy of this \\[segmentation\\] process directly influences the feature extraction step, which is required to suitably represent the lesion for its classification process. Therefore, an appropriate segmentation technique is crucial to obtain good classification results for the problem in question\". Therefore, the classification accuracy is limited by the segmentation accuracy.\n",
    "\n",
    "A different approach with K-means was tried, but the work was discarded it after a few iterations since it's much slower than Otsu's method. The code is commented below for the sake of this work's documentation."
   ]
  },
  {
   "cell_type": "code",
   "execution_count": 8,
   "id": "468db7cd",
   "metadata": {},
   "outputs": [],
   "source": [
    "# from sklearn.cluster import KMeans\n",
    "\n",
    "# Ncluster = 2\n",
    "# kmeans = KMeans(n_clusters=Ncluster) # use K-means algorithm \n",
    "\n",
    "# for i in range(len(images)):\n",
    "#     if not i%100: print(\"Image \", i, \" out of \", len(masks_train_fn))\n",
    "#     im = images[i]\n",
    "#     ref_mask = refs[i]    \n",
    "\n",
    "#     x, y = im.shape\n",
    "#     kmeansSeg = kmeans.fit_predict(im.reshape(-1,1)) # fit to the data reshaped as a 1D vector\n",
    "#     kmeansSeg = np.reshape(kmeansSeg,(x,y)) # reshape as the initial image\n",
    "#     im_mask = get_largest_CC(kmeansSeg)\n",
    "#     im_mask = morpho_closing(im_mask, 10)\n",
    "    \n",
    "#     diceSimilarity.append(1-dice(ref_mask.flatten(), im_mask.flatten()))\n",
    "#     i += 1\n",
    "    \n",
    "# plt.hist(diceSimilarity)\n",
    "# plt.title(\"Histogram of dice similarity between reference masks and masks generated using Otsu's threshold\")\n",
    "# plt.xlabel(\"Dice similarity\")\n",
    "# plt.ylabel(\"Number of samples\")\n",
    "# plt.show()\n",
    "\n",
    "# print(\"The mean Dice Similarity is \", np.mean(diceSimilarity))\n",
    "# print(\"Percentage of images above the 0.8 Dice Score:\", np.sum(np.array(diceSimilarity) > 0.8)/len(diceSimilarity)*100, \"%\")"
   ]
  },
  {
   "cell_type": "markdown",
   "id": "7530dced",
   "metadata": {},
   "source": [
    "Another challenge in this dataset is that it's very unbalanced, as we can see in the plot below."
   ]
  },
  {
   "cell_type": "code",
   "execution_count": 262,
   "id": "565b7a82",
   "metadata": {
    "scrolled": true
   },
   "outputs": [
    {
     "data": {
      "image/png": "[encoded data removed]",
      "text/plain": [
       "<Figure size 432x288 with 1 Axes>"
      ]
     },
     "metadata": {
      "needs_background": "light"
     },
     "output_type": "display_data"
    }
   ],
   "source": [
    "metadata_train = pd.read_csv(\"metadataTrain.csv\")\n",
    "labels, counts = np.unique(metadata_train[\"CLASS\"], return_counts=True)\n",
    "\n",
    "plt.bar(labels, counts)\n",
    "plt.title(\"Samples for each class in training set\")\n",
    "plt.xlabel(\"Label\")\n",
    "plt.ylabel(\"Number of samples\")\n",
    "plt.show()"
   ]
  },
  {
   "cell_type": "markdown",
   "id": "83f98ac7",
   "metadata": {},
   "source": [
    "## 3) Features extraction"
   ]
  },
  {
   "cell_type": "markdown",
   "id": "8aacb369",
   "metadata": {},
   "source": [
    "With the masks defined, it's necessary to compute the ABCD features of each image: Asymmetry, Border irregularity, Colour and Dimension."
   ]
  },
  {
   "cell_type": "markdown",
   "id": "4ee928e8",
   "metadata": {},
   "source": [
    "### 3.1) Centering and reorientation\n",
    "\n",
    "For the first criterion, Asymmetry, the region of the lesion is divided into two subregions R1 and R2 by an axis according to the longest euclidean distance between two points P and Q lying on the border that go through the centroid of the lesion. \n",
    "\n",
    "To find this axis, first the mask's centroid is computed using the mask's moments:\n",
    "\n",
    "Centroid = $\\{\\bar{x}, \\bar{y}\\} = \\left\\{ \\frac{M_{10}}{M_{00}}, \\frac{M_{01}}{M_{00}} \\right\\}$\n",
    "\n",
    "Then, the image is warped to have the mask centroid coinciding with the exact middle of the image. The relationship between the covariation matrix of an image and its second order central moments is recalled in order to find the minor and major axis of the image:\n",
    "\n",
    "$cov(I(x,y)) = \\begin{bmatrix} \\mu'_{20} & \\mu'_{11} \\\\ \\mu'_{11} & \\mu'_{02} \\end{bmatrix}$\n",
    "\n",
    "The orientation can then be extracted [from the angle of the eigenvector associated with the largest eigenvalue towards the axis closest to this eigenvector](https://en.wikipedia.org/wiki/Image_moment). This gives us:\n",
    "\n",
    "$\\theta = \\frac{1}{2} arctan \\left(\\frac{2\\mu'_{11}}{\\mu'_{20} - \\mu'_{02}} \\right)$\n",
    "\n",
    "Since it's not known wheter this is the largest axis or not, the two axis are compared, and then the image is rotated so that the largest axis of the mask is aligned with the middle columns of the image."
   ]
  },
  {
   "cell_type": "code",
   "execution_count": 9,
   "id": "e6b95bdb",
   "metadata": {},
   "outputs": [
    {
     "data": {
      "image/png": "[encoded data removed]",
      "text/plain": [
       "<Figure size 432x288 with 3 Axes>"
      ]
     },
     "metadata": {
      "needs_background": "light"
     },
     "output_type": "display_data"
    }
   ],
   "source": [
    "# Asymmetry and dimension\n",
    "\n",
    "from skimage.measure import moments\n",
    "from skimage.transform import warp, SimilarityTransform, rotate\n",
    "\n",
    "def centralize(im):\n",
    "    x_mid = im.shape[1]//2\n",
    "    y_mid = im.shape[0]//2\n",
    "    \n",
    "    M = moments(im)\n",
    "    centroid = np.array((M[1, 0] / M[0, 0], M[0, 1] / M[0, 0])) #(x, y)\n",
    "    centroid = centroid.astype(int)\n",
    "    \n",
    "    x_disp = x_mid - centroid[1]\n",
    "    y_disp = y_mid - centroid[0]\n",
    "        \n",
    "    tform = SimilarityTransform(translation=(-x_disp, -y_disp))\n",
    "    warped = warp(im, tform, preserve_range=True)\n",
    "    \n",
    "    return warped, x_disp, y_disp\n",
    "\n",
    "def im2coords(im):\n",
    "    y, x = np.nonzero(im)\n",
    "    return np.vstack((x,y))\n",
    "\n",
    "def compute_theta(im):\n",
    "    \n",
    "    # We get the coordinates of all points in the mask. The masks are centralized on the image.\n",
    "    coords = im2coords(im)\n",
    "    cov = np.cov(coords)\n",
    "\n",
    "    # The \"mu\" values below are the image's moments of order 2 divided by its moments of order 0\n",
    "    # They can be found in the covariance matrix of the coordinates of the image.\n",
    "    mu_20 = cov[0,0]\n",
    "    mu_11 = cov[0,1]\n",
    "    mu_02 = cov[1,1]\n",
    "\n",
    "    theta = 1/2 * np.arctan((2*mu_11)/(mu_20 - mu_02 + 1e-12))\n",
    "    theta = np.rad2deg(theta)\n",
    "    \n",
    "    return theta\n",
    "\n",
    "def pre_process_mask(im):\n",
    "    as_columns = im.reshape(-1,1)\n",
    "    im = MinMaxScaler().fit_transform(as_columns).reshape(im.shape)\n",
    "    \n",
    "    im_mask = rescale(im[:,:,2], 0.25, anti_aliasing=True,  order=1, preserve_range=True)\n",
    "    im_mask = bound_ellipse(im_mask)\n",
    "    im_mask = median_filter(im_mask, 3)\n",
    "    im_mask = get_mask(im_mask)\n",
    "    im_mask, x_disp, y_disp = centralize(im_mask)\n",
    "        \n",
    "    im = rescale(im, [0.25, 0.25, 1], anti_aliasing=True, order=1, preserve_range=True)\n",
    "    tform = SimilarityTransform(translation=(-x_disp, -y_disp))\n",
    "    im = warp(im, tform, preserve_range=True)\n",
    "    \n",
    "    theta = compute_theta(im_mask)\n",
    "    im_mask = rotate(im_mask, theta, preserve_range=True, order=0, resize=True)\n",
    "    im = rotate(im, theta, preserve_range=True, order=0, resize=True)\n",
    "\n",
    "    # We don't know yet wether the biggest axis is the horizontal or the vertical one\n",
    "    coords = im2coords(im_mask)\n",
    "    width = np.max(coords[0,:]) - np.min(coords[0,:])\n",
    "    height = np.max(coords[1,:]) - np.min(coords[1,:])\n",
    "\n",
    "    if width > height:\n",
    "        im_mask = rotate(im_mask, 90, preserve_range=True, order=0, resize=True)\n",
    "        im = rotate(im, 90, preserve_range=True, order=0, resize=True)\n",
    "    return im, im_mask\n",
    "\n",
    "fn = images_train_fn[0]\n",
    "im = imread(fn)\n",
    "\n",
    "plt.subplot(1,3,1)\n",
    "plt.imshow(im, cmap='gray')\n",
    "plt.title(\"Before mask processing\")\n",
    "\n",
    "im, im_mask = pre_process_mask(im)\n",
    "\n",
    "plt.subplot(1,3,2)\n",
    "plt.imshow(im_mask, cmap='gray')\n",
    "plt.title(\"After mask processing\")\n",
    "\n",
    "plt.subplot(1,3,3)\n",
    "for i in range(3):\n",
    "    im[:,:,i] = im[:,:,i] * im_mask\n",
    "plt.imshow(im)\n",
    "plt.title(\"Figure with mask\")\n",
    "plt.show()"
   ]
  },
  {
   "cell_type": "markdown",
   "id": "651f5bf1",
   "metadata": {},
   "source": [
    "### 3.2) Asymmetry and dimension (diameter)\n",
    "\n",
    "The proposed method presented iby R.B. Oliveira et al [[4]](https://repositorio.unesp.br/bitstream/handle/11449/161717/WOS000379634700005.pdf;jsessionid=8BD935EB4ACE4A047EF6A841F2373257?sequence=1) is to divide this image in two regions (R1 and R2) by the main axis.\n",
    "Then, 10 lines perpendicular to the axis are traced, its lenghts size in each region (left and right) are computed, and the following features are extracted from these lines:\n",
    "\n",
    " - The ratio between the shortest and longest distances based on the semi-lines (R1, R2) from each perpendicular line of set S (10 features);\n",
    "\n",
    " - The standard deviation from ratios based on all perpendicular lines of set S (1 feature).\n",
    "\n",
    "After the code below it's shown some of these lines for illustrational purposes only, for the first image of the training dataset.\n",
    "\n",
    "This article also defines the feature of \"Diameter\" as: \n",
    "\n",
    "- The length of the semi-major axis of the best-fit ellipse (1 feature).\n",
    "\n",
    "In this report, the length of the longest axis (as explained above) is used as the diameter. However, it's important to note that since we do not know if all the images come from microscopes with the same calibration and configuration, it's unsafe to assume that this length in pixels is comparable between different images. This length was computed anyhow, since one of the goals of this work is to practice the extraction of features."
   ]
  },
  {
   "cell_type": "code",
   "execution_count": 10,
   "id": "6c8bf9f6",
   "metadata": {
    "scrolled": true
   },
   "outputs": [
    {
     "name": "stdout",
     "output_type": "stream",
     "text": [
      "The values of the asymmetry features for this example image are: \n",
      "Ratios =  [0.9230769230768876, 0.9374999999999707, 0.9166666666666412, 0.8648648648648415, 0.8611111111110872, 0.8529411764705631, 0.8437499999999736, 0.8571428571428266, 0.9583333333332935, 0.9473684210525818]\n",
      "Std =  0.04205538532154336\n",
      "Diameter =  103\n"
     ]
    },
    {
     "data": {
      "image/png": "[encoded data removed]",
      "text/plain": [
       "<Figure size 432x288 with 1 Axes>"
      ]
     },
     "metadata": {
      "needs_background": "light"
     },
     "output_type": "display_data"
    }
   ],
   "source": [
    "from skimage.color import gray2rgb\n",
    "\n",
    "def main_axis(im):\n",
    "    rows, cols = im.shape\n",
    "    x = cols//2\n",
    "    axis = np.nonzero(im[:,x])[0]\n",
    "    if axis.shape[0] == 0: return x, 0, 0\n",
    "    ymax = axis[-1]\n",
    "    ymin = axis[0]\n",
    "    return x, ymin, ymax\n",
    "\n",
    "def asymmetry_features(im_mask):\n",
    "    x, ymin, ymax = main_axis(im_mask)\n",
    "    im_left = im_mask[:,0:x+1]\n",
    "    im_right = im_mask[:,x:]\n",
    "    rows = np.linspace(ymin, ymax, 12).astype(int)\n",
    "    \n",
    "    ratios = []\n",
    "    for row in rows[1:-1]:\n",
    "        left_length = np.count_nonzero(im_left[row, :])\n",
    "        right_length = np.count_nonzero(im_right[row, :])\n",
    "        ratio = np.min([left_length, right_length])/(np.max([left_length, right_length]) + 1e-12)\n",
    "        ratios.append(ratio)\n",
    "    return ratios, np.std(ratios), ymax-ymin\n",
    "    \n",
    "def draw_lines(im):\n",
    "    x, ymin, ymax = main_axis(im)\n",
    "    im = gray2rgb(im)\n",
    "    im[:, x, 0] *= 1\n",
    "    im[:, x, 1] *= 0\n",
    "    im[:, x, 2] *= 0\n",
    "    \n",
    "    rows = np.linspace(ymin, ymax, 12).astype(int)\n",
    "    for y in rows[1:-1]:\n",
    "        im[y, :, 0] *= 1\n",
    "        im[y, :, 1] *= 0\n",
    "        im[y, :, 2] *= 0\n",
    "        \n",
    "    plt.imshow(im)\n",
    "    plt.title(\"Example of lines to be drawn to extract asymmetry features\")\n",
    "    \n",
    "draw_lines(im_mask)\n",
    "print(\"The values of the asymmetry features for this example image are: \")\n",
    "ratios, ratios_std, diameter = asymmetry_features(im_mask)\n",
    "print(\"Ratios = \", ratios)\n",
    "print(\"Std = \", ratios_std)\n",
    "print(\"Diameter = \", diameter)"
   ]
  },
  {
   "cell_type": "markdown",
   "id": "0a222bfc",
   "metadata": {},
   "source": [
    "### 3.3) Border irregularity\n",
    "\n",
    "The next step is the computation of border-related features. This present work uses the features defined by Cavalcanti & Scharcanski [5](https://link.springer.com/chapter/10.1007/978-94-007-5389-1_2), which are:\n",
    "\n",
    "- Average gradient magnitude of the pixels in the lesion rim, in each one of the three channels (3 features);\n",
    "- Standard deviation of the gradient magnitude of the pixels in the lesion rim, in each one of the three channels (3 features).\n",
    "\n",
    "The image is divided in 8 regions by 4 axis (horizontal, vertical and diagonals) and the average gradient of each region, $\\mu_R$, is computed. Six more features are computed:\n",
    "\n",
    "- Average of the 8 $\\mu_R$ values for the three channels (3 features);\n",
    "- Standard deviation of the 8 $\\mu_R$ values for the three channels (3 features).\n",
    "\n",
    "Below is written a function to compute the mean and standard deviation of a gradient in the contour of a region for a given channel."
   ]
  },
  {
   "cell_type": "code",
   "execution_count": 11,
   "id": "2d75357d",
   "metadata": {},
   "outputs": [
    {
     "name": "stderr",
     "output_type": "stream",
     "text": [
      "Clipping input data to the valid range for imshow with RGB data ([0..1] for floats or [0..255] for integers).\n"
     ]
    },
    {
     "data": {
      "image/png": "[encoded data removed]",
      "text/plain": [
       "<Figure size 432x288 with 2 Axes>"
      ]
     },
     "metadata": {
      "needs_background": "light"
     },
     "output_type": "display_data"
    }
   ],
   "source": [
    "contour = 1*(sobel(im_mask) != 0)\n",
    "grad = sobel(im)\n",
    "\n",
    "plt.subplot(1,2,1)\n",
    "plt.imshow(contour, cmap='gray')\n",
    "plt.title(\"Border of the lesion\")\n",
    "\n",
    "plt.subplot(1,2,2)\n",
    "plt.imshow(grad)\n",
    "plt.title(\"Sobel gradient of the image\")\n",
    "plt.show()\n",
    "\n",
    "def grad_stats(grad, contour, channel):\n",
    "    N = np.count_nonzero(contour)\n",
    "    pixels = grad[:,:,channel][contour.astype(bool)]\n",
    "    if len(pixels):\n",
    "        mean = np.mean(pixels)\n",
    "        std = np.std(pixels)\n",
    "    else:\n",
    "        mean = 0\n",
    "        std = 0\n",
    "    return mean, std"
   ]
  },
  {
   "cell_type": "markdown",
   "id": "fb2636ba",
   "metadata": {},
   "source": [
    "In order to compute the magnitude of the gradient in each of the 8 regions suggested by the author, a mask is defined for each of those areas. The masks can be seen below."
   ]
  },
  {
   "cell_type": "code",
   "execution_count": 12,
   "id": "4177a7db",
   "metadata": {},
   "outputs": [
    {
     "data": {
      "image/png": "[encoded data removed]",
      "text/plain": [
       "<Figure size 432x288 with 8 Axes>"
      ]
     },
     "metadata": {
      "needs_background": "light"
     },
     "output_type": "display_data"
    }
   ],
   "source": [
    "from skimage.draw import polygon\n",
    "\n",
    "def triangle_masks(im_mask):\n",
    "    r, c = im_mask.shape\n",
    "    tr_vertices = [ [(r//2,c//2), (0,0), (r//2,0)],\n",
    "                    [(r//2,c//2), (0,c//2), (0,0)],\n",
    "                    [(r//2,c//2), (0,c-1), (0,c//2)],\n",
    "                    [(r//2,c//2), (r//2,c-1), (0,c-1)],\n",
    "                    [(r//2,c//2), (r//2,0), (r-1,0)],\n",
    "                    [(r//2,c//2), (r-1,0), (r-1,c//2)],\n",
    "                    [(r//2,c//2), (r-1,c//2), (r-1,c-1)],\n",
    "                    [(r//2,c//2), (r-1,c-1), (r//2,c-1)]]\n",
    "\n",
    "    triangles = []\n",
    "    for tr in tr_vertices:\n",
    "        im_tr = np.zeros(im_mask.shape)\n",
    "        pol = polygon([tr[0][0], tr[1][0], tr[2][0]], [tr[0][1], tr[1][1], tr[2][1]])\n",
    "        im_tr[pol] = 1\n",
    "        triangles.append(im_tr)\n",
    "    \n",
    "    return triangles\n",
    "\n",
    "triangles = triangle_masks(im_mask)\n",
    "for i in range(8):\n",
    "    plt.subplot(2,4,i+1)\n",
    "    plt.imshow(triangles[i], cmap='gray')"
   ]
  },
  {
   "cell_type": "code",
   "execution_count": 13,
   "id": "ba5744bc",
   "metadata": {},
   "outputs": [],
   "source": [
    "def border_features(im, im_mask):\n",
    "    grad_means, grad_stds, grad_local_means, grad_local_stds = [], [], [], []\n",
    "    \n",
    "    grad = sobel(im)\n",
    "    contour = 1*(sobel(im_mask) != 0)\n",
    "    triangles = triangle_masks(im_mask)\n",
    "    \n",
    "    for channel in range(3):\n",
    "        mean, std = grad_stats(grad, contour, channel)\n",
    "        grad_means.append(mean)\n",
    "        grad_stds.append(std)\n",
    "        \n",
    "        mean, std = 0, 0\n",
    "        for i in range(8):\n",
    "            mean_tr, std_tr = grad_stats(grad, contour*triangles[i], channel)\n",
    "            mean += mean_tr\n",
    "            std += std_tr\n",
    "        grad_local_means.append(mean/8)\n",
    "        grad_local_stds.append(std/8)\n",
    "        \n",
    "    return grad_means, grad_stds, grad_local_means, grad_local_stds\n",
    "\n",
    "grad_means, grad_stds, grad_local_means, grad_local_stds = border_features(im, im_mask)"
   ]
  },
  {
   "cell_type": "code",
   "execution_count": 14,
   "id": "46adc188",
   "metadata": {
    "scrolled": true
   },
   "outputs": [
    {
     "name": "stdout",
     "output_type": "stream",
     "text": [
      "[0.06067635014638525, 0.5116722500009036, 0.4509958998545183]\n",
      "[0.06217636874368443, 0.5131499212425777, 0.4509735524988933] \n",
      "\n",
      "[0.16012025913269148, 0.35907578581204425, 0.28818068548826997]\n",
      "[0.14517362441308782, 0.34538369391903223, 0.2814987159901623]\n"
     ]
    }
   ],
   "source": [
    "print(grad_means)\n",
    "print(grad_local_means, \"\\n\")\n",
    "\n",
    "print(grad_stds)\n",
    "print(grad_local_stds)"
   ]
  },
  {
   "cell_type": "markdown",
   "id": "e1f86b85",
   "metadata": {},
   "source": [
    "### 3.4) Colors\n",
    "\n",
    "The third criterion is the color of the lesion. Referencing R.B. Oliveira et al's paper again, there are the nine following features for colors:\n",
    "\n",
    "- Mean, variance and standard deviation values for each RGB channel were extracted (9 features).\n",
    "\n",
    "I thought it odd, however, that both variance and standard deviation are used as features. Isn't it redundant to have both of them?"
   ]
  },
  {
   "cell_type": "code",
   "execution_count": 15,
   "id": "7392f73b",
   "metadata": {},
   "outputs": [
    {
     "name": "stdout",
     "output_type": "stream",
     "text": [
      "Mean color =  [0.27511749120983625, 0.23695411438674577, 0.2564962250263552]\n",
      "Std =  [0.13875470617793131, 0.14334062020725982, 0.151938625265089]\n",
      "Var =  [0.019252868486524053, 0.0205465334014019, 0.02308534584744514]\n"
     ]
    }
   ],
   "source": [
    "def color_features(im, im_mask):\n",
    "    mean, std, var = [], [], []\n",
    "    \n",
    "    for channel in range(3):\n",
    "        mean.append(np.mean(im[:,:,channel][im_mask.astype(bool)]))\n",
    "        std.append(np.std(im[:,:,channel][im_mask.astype(bool)]))\n",
    "        var.append(np.var(im[:,:,channel][im_mask.astype(bool)]))\n",
    "    \n",
    "    return mean, std, var\n",
    "\n",
    "mean_color, std_color, var_color = color_features(im, im_mask)\n",
    "print(\"Mean color = \", mean_color)\n",
    "print(\"Std = \", std_color)\n",
    "print(\"Var = \", var_color)"
   ]
  },
  {
   "cell_type": "markdown",
   "id": "7bb283d6",
   "metadata": {},
   "source": [
    "### 3.5) Metadata\n",
    "\n",
    "There are a few features provided in a metadata file, relating to patient's sex, age and to the position of the lesion. There are some missing values in these columns which have to be treated. For the \"Sex\" feature, Nan values are replaced by the mode of the training set, for the \"Age\" they're replaced by the average age of the training set, and for the \"Position\" feature these values are replaced by a \"Not known\" string.\n",
    "\n",
    "The categorical data (lesion position and patient's sex) is encoded using with SkLearn's LabelEncoder function."
   ]
  },
  {
   "cell_type": "code",
   "execution_count": 16,
   "id": "ced89422",
   "metadata": {},
   "outputs": [],
   "source": [
    "from sklearn.preprocessing import LabelEncoder\n",
    "\n",
    "import pandas as pd\n",
    "metadata_train = pd.read_csv(\"metadataTrain.csv\")\n",
    "metadata_test = pd.read_csv(\"metadataTest.csv\")"
   ]
  },
  {
   "cell_type": "code",
   "execution_count": 17,
   "id": "5c37277b",
   "metadata": {},
   "outputs": [],
   "source": [
    "sex_mode = metadata_train[\"SEX\"].mode()[0]\n",
    "age_mean = metadata_train[\"AGE\"].mean()\n",
    "\n",
    "metadata_train.sort_values(by=['ID'], inplace=True)\n",
    "metadata_train[\"SEX\"].fillna(sex_mode, inplace=True)\n",
    "metadata_train[\"AGE\"].fillna(age_mean, inplace=True) \n",
    "metadata_train[\"POSITION\"].fillna(\"Not known\", inplace=True)\n",
    "\n",
    "sex_le = LabelEncoder()\n",
    "sex_le.fit(metadata_train[\"SEX\"])\n",
    "pos_le = LabelEncoder()\n",
    "pos_le.fit(metadata_train[\"POSITION\"])\n",
    "\n",
    "metadata_train[\"SEX_ENC\"] = sex_le.transform(metadata_train[\"SEX\"])\n",
    "metadata_train[\"POSITION_ENC\"] = pos_le.transform(metadata_train[\"POSITION\"])\n",
    "\n",
    "metadata_test.sort_values(by=['ID'], inplace=True)\n",
    "metadata_test[\"SEX\"].fillna(sex_mode, inplace=True)\n",
    "metadata_test[\"AGE\"].fillna(age_mean, inplace=True) \n",
    "metadata_test[\"POSITION\"].fillna(\"Not known\", inplace=True)\n",
    "\n",
    "metadata_test[\"SEX_ENC\"] = sex_le.transform(metadata_test[\"SEX\"])\n",
    "metadata_test[\"POSITION_ENC\"] = pos_le.transform(metadata_test[\"POSITION\"])\n",
    "\n",
    "def meta_features(fn, metadata_table):\n",
    "    ID = fn.split(\"ISIC\")[1]\n",
    "    ID = \"ISIC\" + ID.split(\".\")[0]\n",
    "    features = metadata_table.loc[metadata_table[\"ID\"] == ID, [\"SEX_ENC\", \"AGE\", \"POSITION_ENC\"]].values[0]\n",
    "    return ID, features[0], features[1], features[2]\n",
    "\n",
    "train_labels = metadata_train[\"CLASS\"].values"
   ]
  },
  {
   "cell_type": "markdown",
   "id": "7ad1fd7f",
   "metadata": {},
   "source": [
    "### 3.6) Feature extraction on the dataset\n",
    "\n",
    "Now all these features extraction processes are summarized in a single function which is applied to every image in the training set. This process may take a while, so after it's done the results are saved in a CSV file, so that it doesn't have to be run again every time. \n",
    "\n",
    "The loops extracting the features for each image in the training and test sets are commented below, since it may take a couple of hours to run."
   ]
  },
  {
   "cell_type": "code",
   "execution_count": 18,
   "id": "24ddadc2",
   "metadata": {},
   "outputs": [],
   "source": [
    "def extract_features(fn, mode='train'):\n",
    "    im = imread(fn)\n",
    "    im, im_mask = pre_process_mask(im)\n",
    "    ratios, ratios_std, diameter = asymmetry_features(im_mask)\n",
    "    grad_means, grad_stds, grad_local_means, grad_local_stds = border_features(im, im_mask)\n",
    "    mean_color, std_color, var_color = color_features(im, im_mask)\n",
    "    ID, sex, age, position = meta_features(fn, metadata_train if mode.lower() == 'train' else metadata_test)\n",
    "    \n",
    "    features = []\n",
    "    features.append(ID)\n",
    "    features.extend(ratios)\n",
    "    features.append(ratios_std)\n",
    "    features.append(diameter)\n",
    "    features.extend(grad_means)\n",
    "    features.extend(grad_stds)\n",
    "    features.extend(grad_local_means)\n",
    "    features.extend(grad_local_stds)\n",
    "    features.extend(mean_color)\n",
    "    features.extend(std_color)\n",
    "    features.extend(var_color)\n",
    "    features.append(sex)\n",
    "    features.append(age)\n",
    "    features.append(position)\n",
    "    \n",
    "    return features\n",
    "\n",
    "features = extract_features(fn)"
   ]
  },
  {
   "cell_type": "code",
   "execution_count": 19,
   "id": "8db2b1bc",
   "metadata": {
    "scrolled": true
   },
   "outputs": [],
   "source": [
    "# df_train = pd.DataFrame(columns=[\"ID\",\n",
    "#                                 \"R1\", \"R2\", \"R3\", \"R4\", \"R5\", \"R6\", \"R7\", \"R8\", \"R9\", \"R10\", \"R_std\", \"DIAMETER\",\n",
    "#                                 \"MEAN_GRAD_R\", \"MEAN_GRAD_G\", \"MEAN_GRAD_B\",\n",
    "#                                 \"STD_GRAD_R\", \"STD_GRAD_G\", \"STD_GRAD_B\",\n",
    "#                                 \"LOCAL_MEAN_GRAD_R\", \"LOCAL_MEAN_GRAD_G\", \"LOCAL_MEAN_GRAD_B\",\n",
    "#                                 \"LOCAL_STD_GRAD_R\", \"LOCAL_STD_GRAD_G\", \"LOCAL_STD_GRAD_B\",\n",
    "#                                 \"MEAN_COLOR_R\", \"MEAN_COLOR_G\", \"MEAN_COLOR_B\",\n",
    "#                                 \"STD_COLOR_R\", \"STD_COLOR_G\", \"STD_COLOR_B\",\n",
    "#                                 \"VAR_COLOR_R\", \"VAR_COLOR_G\", \"VAR_COLOR_B\",\n",
    "#                                 \"SEX\", \"AGE\", \"POSITION\"])\n",
    "# df_test = df_train.copy()\n",
    "\n",
    "# for (i, fn) in enumerate(images_train_fn):\n",
    "#     if not i % 400:\n",
    "#         print(i, fn)\n",
    "#     features = extract_features(fn)\n",
    "#     df_train = pd.concat([df_train,\n",
    "#                           pd.DataFrame([pd.Series(features, index=df_train.columns)])])\n"
   ]
  },
  {
   "cell_type": "code",
   "execution_count": 20,
   "id": "a8cd41f7",
   "metadata": {},
   "outputs": [],
   "source": [
    "# for (i, fn) in enumerate(images_test_fn):\n",
    "#     if not i % 400:\n",
    "#         print(i, fn)\n",
    "#     features = extract_features(fn, mode='test')\n",
    "#     df_test = pd.concat([df_test,\n",
    "#                           pd.DataFrame([pd.Series(features, index=df_test.columns)])])\n"
   ]
  },
  {
   "cell_type": "markdown",
   "id": "a21987e1",
   "metadata": {},
   "source": [
    "Below, training and test features are saved to CSV files. "
   ]
  },
  {
   "cell_type": "code",
   "execution_count": 21,
   "id": "5fea2c53",
   "metadata": {},
   "outputs": [],
   "source": [
    "# filepath_train = Path('./train_features.csv')\n",
    "# filepath_test = Path('./test_features.csv')\n",
    "\n",
    "# df_train.to_csv(filepath_train, index=False)\n",
    "# df_test.to_csv(filepath_test, index=False)"
   ]
  },
  {
   "cell_type": "markdown",
   "id": "287b64ca",
   "metadata": {},
   "source": [
    "## 4) Classification\n",
    "\n",
    "With the features extracted, it's time to do the classification of the dataset.\n",
    "\n",
    "The training data is divided into two groups for training and validation, and a standard scaler is applied to the data (fitted on the train data and applied to both train and test). The training samples are also shuffled."
   ]
  },
  {
   "cell_type": "code",
   "execution_count": 242,
   "id": "cc4b8963",
   "metadata": {},
   "outputs": [],
   "source": [
    "train_features = pd.read_csv(\"train_features.csv\")\n",
    "test_features = pd.read_csv(\"test_features.csv\")\n",
    "\n",
    "from sklearn.model_selection import train_test_split\n",
    "from sklearn.preprocessing import StandardScaler\n",
    "\n",
    "X_train, X_test, y_train, y_test = train_test_split(train_features, train_labels, test_size=0.33, random_state=42)\n",
    "\n",
    "scaler = StandardScaler()\n",
    "scaler.fit(X_train.drop([\"ID\"], axis=1))\n",
    "X_train = scaler.transform(X_train.drop([\"ID\"], axis=1))\n",
    "X_test = scaler.transform(X_test.drop([\"ID\"], axis=1))\n",
    "\n",
    "from sklearn.utils import shuffle\n",
    "\n",
    "X_train, y_train = shuffle(X_train, y_train)"
   ]
  },
  {
   "cell_type": "markdown",
   "id": "e2ef1780",
   "metadata": {},
   "source": [
    "Since the class weights of the test set is given, this information is used to compute each sample's weight."
   ]
  },
  {
   "cell_type": "code",
   "execution_count": 245,
   "id": "a03889d9",
   "metadata": {},
   "outputs": [],
   "source": [
    "from sklearn.utils.class_weight import compute_sample_weight\n",
    "\n",
    "class_weight = [0.7005531, 0.24592265, 0.95261733, 3.64804147, 1.20674543, 13.19375, 12.56547619, 5.04219745]\n",
    "class_weight /= np.sum(class_weight)\n",
    "\n",
    "classes = np.unique(train_labels)\n",
    "weight_dict = dict(zip(classes, class_weight))\n",
    "\n",
    "train_weight = compute_sample_weight(weight_dict, y_train)\n",
    "test_weight = compute_sample_weight(weight_dict, y_test)\n",
    "\n",
    "samples_weight = compute_sample_weight(weight_dict, train_labels)"
   ]
  },
  {
   "cell_type": "markdown",
   "id": "35fb9f34",
   "metadata": {},
   "source": [
    "### 4.1) SVMs\n",
    "\n",
    "The first method tried is the use of SVMs. A somewhat manual grid search is performed to decide the best value for C, and whether to use a linear SVM or a RBF one."
   ]
  },
  {
   "cell_type": "code",
   "execution_count": 286,
   "id": "5af4204b",
   "metadata": {},
   "outputs": [
    {
     "name": "stdout",
     "output_type": "stream",
     "text": [
      "Kernel:  linear \tC:  0.5\n",
      "Weighted accuracy =  0.3925488687667693\n",
      "Kernel:  linear \tC:  1\n",
      "Weighted accuracy =  0.38984442567687855\n",
      "Kernel:  linear \tC:  4\n",
      "Weighted accuracy =  0.4012207356950383\n",
      "Kernel:  linear \tC:  8\n",
      "Weighted accuracy =  0.39995580276684056\n",
      "Kernel:  linear \tC:  16\n",
      "Weighted accuracy =  0.4031317173821235\n",
      "Kernel:  linear \tC:  32\n",
      "Weighted accuracy =  0.40480208425813463\n",
      "Kernel:  linear \tC:  64\n",
      "Weighted accuracy =  0.4018114462425169\n",
      "Kernel:  linear \tC:  128\n",
      "Weighted accuracy =  0.41029344682574204\n",
      "Kernel:  rbf \tC:  0.5\n",
      "Weighted accuracy =  0.3234851912186355\n",
      "Kernel:  rbf \tC:  1\n",
      "Weighted accuracy =  0.3582057458500793\n",
      "Kernel:  rbf \tC:  4\n",
      "Weighted accuracy =  0.4050599570782817\n",
      "Kernel:  rbf \tC:  8\n",
      "Weighted accuracy =  0.41555039709226815\n",
      "Kernel:  rbf \tC:  16\n",
      "Weighted accuracy =  0.42488468694571035\n",
      "Kernel:  rbf \tC:  32\n",
      "Weighted accuracy =  0.42977336891451084\n",
      "Kernel:  rbf \tC:  64\n",
      "Weighted accuracy =  0.4341407907587674\n",
      "Kernel:  rbf \tC:  128\n",
      "Weighted accuracy =  0.4260837382322528\n"
     ]
    }
   ],
   "source": [
    "from sklearn.svm import SVC\n",
    "kernel = ['linear', 'rbf']\n",
    "C = [0.5, 1, 4, 8, 16, 32, 64, 128]\n",
    "\n",
    "for k in kernel:\n",
    "    for c in C:\n",
    "        clf = SVC(kernel=k, C=c)\n",
    "        clf.fit(X_train, y_train, train_weight)\n",
    "        print(\"Kernel: \", k, \"\\tC: \", c)\n",
    "        print(\"Weighted accuracy = \", clf.score(X_test, y_test, test_weight))"
   ]
  },
  {
   "cell_type": "markdown",
   "id": "f6c832f5",
   "metadata": {},
   "source": [
    "As shown above, the best results were obtained with a rbf kernel and C=64. \n",
    "With that defined, the whole train set is used to train the SVM and then predict classes for the test set."
   ]
  },
  {
   "cell_type": "code",
   "execution_count": 246,
   "id": "47b9fd52",
   "metadata": {
    "scrolled": true
   },
   "outputs": [],
   "source": [
    "scaler = StandardScaler()\n",
    "scaler.fit(train_features.drop([\"ID\"], axis=1))\n",
    "X_train = scaler.transform(train_features.drop([\"ID\"], axis=1))\n",
    "X_test = scaler.transform(test_features.drop([\"ID\"], axis=1))\n",
    "y_train = train_labels\n",
    "\n",
    "X_train, y_train = shuffle(X_train, y_train)\n",
    "\n",
    "clf = SVC(kernel='rbf', C=64)\n",
    "clf.fit(X_train, y_train, samples_weight)\n",
    "pred = clf.predict(X_test)\n",
    "\n",
    "res = pd.DataFrame(test_features[\"ID\"])\n",
    "res[\"CLASS\"] = pred\n",
    "filepath_res = Path('./submission.csv')\n",
    "res.to_csv(filepath_res, index=False)"
   ]
  },
  {
   "cell_type": "markdown",
   "id": "5708e507",
   "metadata": {},
   "source": [
    "The prediction above gave the best results I've uploaded on Kaggle, with an accuracy of 45.10% on the test set. \n"
   ]
  },
  {
   "cell_type": "markdown",
   "id": "d28dd196",
   "metadata": {},
   "source": [
    "### 4.2) Multi-Layers Perceptron\n",
    "\n",
    "A second approach is to run the same extracted features through some other classification algorithm, such as the multilayer perceptron, as implemented below."
   ]
  },
  {
   "cell_type": "code",
   "execution_count": 234,
   "id": "cbed7480",
   "metadata": {},
   "outputs": [],
   "source": [
    "import tensorflow\n",
    "from tensorflow.keras.models import Sequential\n",
    "from tensorflow.keras.layers import Dense, Dropout, Flatten, Input\n",
    "from tensorflow.keras.utils import to_categorical"
   ]
  },
  {
   "cell_type": "code",
   "execution_count": 247,
   "id": "cb99ea7a",
   "metadata": {
    "scrolled": true
   },
   "outputs": [
    {
     "name": "stdout",
     "output_type": "stream",
     "text": [
      "Epoch 1/10\n",
      "199/199 [==============================] - 109s 15ms/step - loss: 0.0411 - accuracy: 0.4621 - val_loss: 0.0340 - val_accuracy: 0.5352\n",
      "Epoch 2/10\n",
      "199/199 [==============================] - 0s 2ms/step - loss: 0.0319 - accuracy: 0.5637 - val_loss: 0.0320 - val_accuracy: 0.5738\n",
      "Epoch 3/10\n",
      "199/199 [==============================] - 1s 3ms/step - loss: 0.0301 - accuracy: 0.5883 - val_loss: 0.0311 - val_accuracy: 0.5890\n",
      "Epoch 4/10\n",
      "199/199 [==============================] - 0s 2ms/step - loss: 0.0290 - accuracy: 0.5972 - val_loss: 0.0306 - val_accuracy: 0.5880\n",
      "Epoch 5/10\n",
      "199/199 [==============================] - 0s 2ms/step - loss: 0.0283 - accuracy: 0.6000 - val_loss: 0.0304 - val_accuracy: 0.5904\n",
      "Epoch 6/10\n",
      "199/199 [==============================] - 0s 2ms/step - loss: 0.0278 - accuracy: 0.6049 - val_loss: 0.0302 - val_accuracy: 0.5928\n",
      "Epoch 7/10\n",
      "199/199 [==============================] - 0s 2ms/step - loss: 0.0274 - accuracy: 0.6094 - val_loss: 0.0300 - val_accuracy: 0.5979\n",
      "Epoch 8/10\n",
      "199/199 [==============================] - 0s 2ms/step - loss: 0.0270 - accuracy: 0.6076 - val_loss: 0.0298 - val_accuracy: 0.5986\n",
      "Epoch 9/10\n",
      "199/199 [==============================] - 1s 3ms/step - loss: 0.0266 - accuracy: 0.6127 - val_loss: 0.0298 - val_accuracy: 0.6008\n",
      "Epoch 10/10\n",
      "199/199 [==============================] - 0s 2ms/step - loss: 0.0262 - accuracy: 0.6129 - val_loss: 0.0299 - val_accuracy: 0.5936\n"
     ]
    },
    {
     "data": {
      "text/plain": [
       "<keras.callbacks.History at 0x7f66b22d1f40>"
      ]
     },
     "execution_count": 247,
     "metadata": {},
     "output_type": "execute_result"
    }
   ],
   "source": [
    "model = Sequential()\n",
    "model.add(Dense(36, input_shape=(36,), activation='relu'))\n",
    "model.add(Dense(16, activation='relu'))\n",
    "model.add(Dense(9, activation='softmax'))\n",
    "\n",
    "one_hot = to_categorical(y_train)\n",
    "\n",
    "model.compile(loss='categorical_crossentropy', optimizer='adam', metrics=['accuracy'])\n",
    "model.fit(X_train,\n",
    "          one_hot,\n",
    "          epochs=10,\n",
    "          batch_size=64,\n",
    "          verbose=1,\n",
    "          validation_split=0.33,\n",
    "          sample_weight=train_weight)\n"
   ]
  },
  {
   "cell_type": "code",
   "execution_count": 249,
   "id": "8b4caad0",
   "metadata": {},
   "outputs": [],
   "source": [
    "pred = np.argmax(model.predict(X_test), axis=1)\n",
    "\n",
    "res = pd.DataFrame(test_features[\"ID\"])\n",
    "res[\"CLASS\"] = pred\n",
    "filepath_res = Path('./submission.csv')\n",
    "res.to_csv(filepath_res, index=False)"
   ]
  },
  {
   "cell_type": "markdown",
   "id": "4c71b54c",
   "metadata": {},
   "source": [
    "The result on Kaggle was similar to SVM, with an accuracy around 39% for 10 epochs. Two other sets of predictions were sent with the number of epochs equal to 5 and 20, but 10 epochs had the best results among them. "
   ]
  },
  {
   "cell_type": "markdown",
   "id": "450ccc7c",
   "metadata": {},
   "source": [
    "### 4.3) Convolutional Neural Networks\n",
    "\n",
    "This section will focus on a differenct approach, not based on features extraction. A convolutional neural network is used to classify the data starting from the pixels themselves, instead of relying on feature extraction.\n",
    "\n",
    "The network used below is based on the Symonian and Zisserman's architecture VGG16 [[5]](https://neurohive.io/en/popular-networks/vgg16/), with the top of the network replaced by a sequence of layers consisting in a Dropout layer to reduce overfitting, a Global Average Pooling, which reduces the dimensionality of the feature maps output by the previous convolution layer, a fully connected layer, and finally the Softmax output.\n",
    "\n",
    "To get around the problem that's raised when trying to load all the images on memory, an Image Data Generator is used. There, image data can be also augmented (in this work, rotation and zoom is used), and the batches used in training are loaded dynamically from the paths passed to the \"flow_from_dataframe\" function."
   ]
  },
  {
   "cell_type": "code",
   "execution_count": 222,
   "id": "20413cd7",
   "metadata": {},
   "outputs": [
    {
     "name": "stdout",
     "output_type": "stream",
     "text": [
      "Found 12729 validated image filenames belonging to 8 classes.\n",
      "Found 6269 validated image filenames belonging to 8 classes.\n"
     ]
    }
   ],
   "source": [
    "from keras.preprocessing.image import ImageDataGenerator\n",
    "from tensorflow.keras.applications import VGG16\n",
    "from keras.applications.vgg16 import preprocess_input\n",
    "\n",
    "split = 0.33\n",
    "batch_size = 128\n",
    "train_weight = compute_sample_weight(weight_dict, train_labels)\n",
    "target_size = (100,100)\n",
    "\n",
    "train_pd = pd.DataFrame()\n",
    "train_pd[\"Path\"] = images_train_fn\n",
    "train_pd[\"Label\"] = train_labels.astype(str)\n",
    "\n",
    "gen = ImageDataGenerator(\n",
    "    rotation_range=20,\n",
    "    zoom_range=0.15,\n",
    "    preprocessing_function=preprocess_input,\n",
    "    validation_split=split)\n",
    "\n",
    "train_flow = gen.flow_from_dataframe(\n",
    "    dataframe = train_pd,\n",
    "    directory = './',\n",
    "    x_col=\"Path\",\n",
    "    y_col=\"Label\",\n",
    "    subset=\"training\",\n",
    "    batch_size=batch_size,\n",
    "    class_mode='categorical',\n",
    "    target_size=target_size)\n",
    "\n",
    "train_steps = train_flow.n//batch_size\n",
    "\n",
    "val_flow = gen.flow_from_dataframe(\n",
    "    dataframe = train_pd,\n",
    "    directory = './',\n",
    "    x_col=\"Path\",\n",
    "    y_col=\"Label\",\n",
    "    subset=\"validation\",\n",
    "    batch_size=batch_size,\n",
    "    class_mode='categorical',\n",
    "    target_size=target_size)\n",
    "\n",
    "val_steps = val_flow.n//batch_size\n"
   ]
  },
  {
   "cell_type": "markdown",
   "id": "4d15236b",
   "metadata": {},
   "source": [
    "Some tests were made with the architecture described above, which took a long time of training (more than 24h) and produced great overtfitting. Then, it was opted to cut some of the layers of the VGG16 model to reduce the total complexity of the model, going from around 15 million parameters to 7 million parameters. This final model is seen below."
   ]
  },
  {
   "cell_type": "code",
   "execution_count": 220,
   "id": "6ce3a90b",
   "metadata": {},
   "outputs": [],
   "source": [
    "import tensorflow\n",
    "import keras\n",
    "from keras import Model\n",
    "from keras.layers import Dense, Conv2D, MaxPool2D, Flatten, GlobalAveragePooling2D, Dropout\n",
    "from keras.models import Sequential\n",
    "from tensorflow.keras.utils import to_categorical\n",
    "\n",
    "vgg16_model = VGG16(weights='imagenet', include_top=False)\n",
    "\n",
    "x = vgg16_model.get_layer(\"block4_pool\").output\n",
    "x = Dropout(0.2)(x)\n",
    "x = GlobalAveragePooling2D()(x)\n",
    "x = Dense(256, activation='ReLU')(x)\n",
    "\n",
    "# # Dropout layer to reduce overfitting\n",
    "\n",
    "predictions = Dense(8, activation='softmax', use_bias=True)(x)\n",
    "\n",
    "model = Model(inputs=vgg16_model.input, outputs=predictions)"
   ]
  },
  {
   "cell_type": "code",
   "execution_count": 221,
   "id": "8b105265",
   "metadata": {
    "scrolled": true
   },
   "outputs": [
    {
     "name": "stdout",
     "output_type": "stream",
     "text": [
      "Model: \"model_29\"\n",
      "_________________________________________________________________\n",
      " Layer (type)                Output Shape              Param #   \n",
      "=================================================================\n",
      " input_33 (InputLayer)       [(None, None, None, 3)]   0         \n",
      "                                                                 \n",
      " block1_conv1 (Conv2D)       (None, None, None, 64)    1792      \n",
      "                                                                 \n",
      " block1_conv2 (Conv2D)       (None, None, None, 64)    36928     \n",
      "                                                                 \n",
      " block1_pool (MaxPooling2D)  (None, None, None, 64)    0         \n",
      "                                                                 \n",
      " block2_conv1 (Conv2D)       (None, None, None, 128)   73856     \n",
      "                                                                 \n",
      " block2_conv2 (Conv2D)       (None, None, None, 128)   147584    \n",
      "                                                                 \n",
      " block2_pool (MaxPooling2D)  (None, None, None, 128)   0         \n",
      "                                                                 \n",
      " block3_conv1 (Conv2D)       (None, None, None, 256)   295168    \n",
      "                                                                 \n",
      " block3_conv2 (Conv2D)       (None, None, None, 256)   590080    \n",
      "                                                                 \n",
      " block3_conv3 (Conv2D)       (None, None, None, 256)   590080    \n",
      "                                                                 \n",
      " block3_pool (MaxPooling2D)  (None, None, None, 256)   0         \n",
      "                                                                 \n",
      " block4_conv1 (Conv2D)       (None, None, None, 512)   1180160   \n",
      "                                                                 \n",
      " block4_conv2 (Conv2D)       (None, None, None, 512)   2359808   \n",
      "                                                                 \n",
      " block4_conv3 (Conv2D)       (None, None, None, 512)   2359808   \n",
      "                                                                 \n",
      " block4_pool (MaxPooling2D)  (None, None, None, 512)   0         \n",
      "                                                                 \n",
      " dropout_22 (Dropout)        (None, None, None, 512)   0         \n",
      "                                                                 \n",
      " global_average_pooling2d_16  (None, 512)              0         \n",
      "  (GlobalAveragePooling2D)                                       \n",
      "                                                                 \n",
      " dense_86 (Dense)            (None, 256)               131328    \n",
      "                                                                 \n",
      " dense_87 (Dense)            (None, 8)                 2056      \n",
      "                                                                 \n",
      "=================================================================\n",
      "Total params: 7,768,648\n",
      "Trainable params: 7,768,648\n",
      "Non-trainable params: 0\n",
      "_________________________________________________________________\n"
     ]
    }
   ],
   "source": [
    "model.summary()"
   ]
  },
  {
   "cell_type": "code",
   "execution_count": 223,
   "id": "5eb381c9",
   "metadata": {
    "scrolled": true
   },
   "outputs": [
    {
     "name": "stdout",
     "output_type": "stream",
     "text": [
      "Epoch 1/10\n",
      "99/99 [==============================] - 2757s 28s/step - loss: 4.3069 - accuracy: 0.4668 - val_loss: 1.0760 - val_accuracy: 0.6048\n",
      "Epoch 2/10\n",
      "99/99 [==============================] - 2503s 25s/step - loss: 1.1990 - accuracy: 0.5785 - val_loss: 0.9113 - val_accuracy: 0.6668\n",
      "Epoch 3/10\n",
      "99/99 [==============================] - 2446s 25s/step - loss: 1.1091 - accuracy: 0.6073 - val_loss: 0.8762 - val_accuracy: 0.6882\n",
      "Epoch 4/10\n",
      "99/99 [==============================] - 2436s 25s/step - loss: 1.0483 - accuracy: 0.6298 - val_loss: 0.9152 - val_accuracy: 0.6831\n",
      "Epoch 5/10\n",
      "99/99 [==============================] - 2441s 25s/step - loss: 1.0094 - accuracy: 0.6424 - val_loss: 0.8460 - val_accuracy: 0.6896\n",
      "Epoch 6/10\n",
      "99/99 [==============================] - 2435s 25s/step - loss: 0.9764 - accuracy: 0.6501 - val_loss: 0.8286 - val_accuracy: 0.7033\n",
      "Epoch 7/10\n",
      "99/99 [==============================] - 2444s 25s/step - loss: 0.9327 - accuracy: 0.6651 - val_loss: 0.8236 - val_accuracy: 0.6973\n",
      "Epoch 8/10\n",
      "99/99 [==============================] - 2436s 25s/step - loss: 0.8954 - accuracy: 0.6740 - val_loss: 0.8784 - val_accuracy: 0.6808\n",
      "Epoch 9/10\n",
      "99/99 [==============================] - 2713s 27s/step - loss: 0.8778 - accuracy: 0.6836 - val_loss: 0.8449 - val_accuracy: 0.7043\n",
      "Epoch 10/10\n",
      "99/99 [==============================] - 2628s 27s/step - loss: 0.8334 - accuracy: 0.6980 - val_loss: 0.8376 - val_accuracy: 0.7209\n"
     ]
    }
   ],
   "source": [
    "from tensorflow.keras.optimizers import Adam\n",
    "\n",
    "optimizer = Adam(learning_rate=0.0001)\n",
    "model.compile(loss='categorical_crossentropy',\n",
    "              optimizer=optimizer,\n",
    "              metrics=['accuracy'])\n",
    "\n",
    "history = model.fit(x=train_flow,\n",
    "                      steps_per_epoch=train_steps,  \n",
    "                      epochs=10,\n",
    "                      validation_data=val_flow,\n",
    "                      validation_steps=val_steps,)"
   ]
  },
  {
   "cell_type": "code",
   "execution_count": 224,
   "id": "2557d6e5",
   "metadata": {},
   "outputs": [
    {
     "name": "stderr",
     "output_type": "stream",
     "text": [
      "WARNING:absl:Found untraced functions such as re_lu_layer_call_fn, re_lu_layer_call_and_return_conditional_losses while saving (showing 2 of 2). These functions will not be directly callable after loading.\n"
     ]
    },
    {
     "name": "stdout",
     "output_type": "stream",
     "text": [
      "INFO:tensorflow:Assets written to: ./vgg16_model_2/assets\n"
     ]
    },
    {
     "name": "stderr",
     "output_type": "stream",
     "text": [
      "INFO:tensorflow:Assets written to: ./vgg16_model_2/assets\n"
     ]
    }
   ],
   "source": [
    "model.save('./vgg16_model_2')"
   ]
  },
  {
   "cell_type": "code",
   "execution_count": 227,
   "id": "2feb7185",
   "metadata": {},
   "outputs": [
    {
     "name": "stdout",
     "output_type": "stream",
     "text": [
      "Found 6333 validated image filenames.\n"
     ]
    }
   ],
   "source": [
    "test_pd = pd.DataFrame()\n",
    "test_pd[\"Path\"] = images_test_fn\n",
    "\n",
    "test_gen = ImageDataGenerator(\n",
    "            preprocessing_function=preprocess_input)\n",
    "\n",
    "test_flow = test_gen.flow_from_dataframe(\n",
    "    dataframe = test_pd,\n",
    "    directory = './',\n",
    "    x_col=\"Path\",\n",
    "    y_col=None,\n",
    "    class_mode=None,\n",
    "    shuffle=False,\n",
    "    batch_size=batch_size,\n",
    "    target_size=target_size)\n",
    "\n",
    "test_steps = test_flow.n//batch_size"
   ]
  },
  {
   "cell_type": "code",
   "execution_count": 228,
   "id": "8586ee15",
   "metadata": {},
   "outputs": [
    {
     "name": "stdout",
     "output_type": "stream",
     "text": [
      "50/50 [==============================] - 330s 7s/step\n"
     ]
    }
   ],
   "source": [
    "y_hat = model.predict(test_flow, verbose=1)"
   ]
  },
  {
   "cell_type": "code",
   "execution_count": 229,
   "id": "f48ceb9f",
   "metadata": {},
   "outputs": [],
   "source": [
    "pred = np.argmax(y_hat, axis=1) + 1\n",
    "res = pd.DataFrame(test_features[\"ID\"])\n",
    "res[\"CLASS\"] = pred\n",
    "filepath_res = Path('./submission.csv')\n",
    "res.to_csv(filepath_res, index=False)"
   ]
  },
  {
   "cell_type": "code",
   "execution_count": 231,
   "id": "04cc9801",
   "metadata": {},
   "outputs": [
    {
     "data": {
      "text/plain": [
       "(array([1, 2, 3, 4, 5, 7, 8]),\n",
       " array([ 646, 3827, 1076,  262,  405,   48,   69]))"
      ]
     },
     "execution_count": 231,
     "metadata": {},
     "output_type": "execute_result"
    }
   ],
   "source": [
    "np.unique(pred, return_counts=True) "
   ]
  },
  {
   "cell_type": "markdown",
   "id": "622a7ed8",
   "metadata": {},
   "source": [
    "Unfortunately, I wasn't able to tackle the problem of the dataset being unbalanced using these functions from the image generator. Even though the attribute \"weight_col\" exists in the functions (weight_col: string, column in dataframe that contains the sample weights. Default: None.), when I added these weights as was done with the SVM and the Perceptron, the accuracy dropped to the 8-12% rate. \n",
    "\n",
    "The best result obtained with this on Kaggle was an accuracy of 36.65%, which was obtained without \"cutting\" layers off the VGG16 model (only the Top was replaced).\n",
    "\n",
    "Since the accuracy was around 60-70% in the validations made in this project and the actual test accuracy was so low, the network is overfitting to the training data, probably due to its high complexity. Possible solutions would be to use simpler CNNs and add more regularizers, such as the droupout layer used. \n"
   ]
  },
  {
   "cell_type": "markdown",
   "id": "6e35d03b",
   "metadata": {},
   "source": [
    "## 5) Conclusion\n",
    "\n",
    "Even though the current state-of-the-art in skin lesion classification uses CNNs, I wasn't able to get a satisfying result with those. The extraction of features, however, was able to produce a decent result, classifying correctly 45% of the samples, even though the Dice Score was \"reliable\" only for approximately 65% of the samples. R. B. Oliveira et al's paper gives us reasons to believe that with a better segmentation the results could be even better with the extraction of features - which is considerably faster than training a deep neetwork. \n",
    "\n",
    "For further improvements regarding the segmentation problem, Ganster et all suggest an approach by \"fusion of segmentations\": there are different problems that may affect the quality of the segmentation (such as the borders of the microscope lens, presence of hair in the images, a weak gradient on the borders, etc.), therefore a possible solution is to use different segmentation methods on these groups and merge the resulting segmentation dataset. \n",
    "\n",
    "Concerning the CNNs performance, simpler networks are supposed to achieve better results, since the biggest issue faced was the overfitting of the training samples."
   ]
  },
  {
   "cell_type": "markdown",
   "id": "a2761d2b",
   "metadata": {},
   "source": [
    "## 6) References\n",
    "\n",
    "[[1]](https://pubmed.ncbi.nlm.nih.gov/11341712/) **H Ganster, A Pinz, R Röhrer, E Wildling, M Binder, H Kittler.** (2001) Automated melanoma recognition. *IEEE Transactions on Medical Imaging.*\n",
    "\n",
    "[[2]](https://www.ncbi.nlm.nih.gov/pmc/articles/PMC6804807/) **Lauren E. Davis, Sara C. Shalin, and Alan J. Tackett.** (2019) Current state of melanoma diagnosis and treatment. *Cancer, Biology & Therapy.*\n",
    "\n",
    "[[3]](https://www.ncbi.nlm.nih.gov/pmc/articles/PMC3192405/) **M. Emre Celebi,* Hassan A. Kingravi, Bakhtiyar Uddin, Hitoshi Iyatomi, Y. Alp Aslandogan, William V. Stoecker, and Randy H. Moss.** (2007) A methodological approach to the classification of dermoscopy images. *Computerized Medical Imaging and Graphics.*\n",
    "\n",
    "[[4]](https://repositorio.unesp.br/bitstream/handle/11449/161717/WOS000379634700005.pdf) **Roberta B. Oliveira, Norian Marranghello, Aledir S. Pereira, João Manuel R.S. Tavares.** (2016) A computational approach for detecting pigmented skin lesions in macroscopic images. *Expert Systems With Applications.*\n",
    "\n",
    "[[5]](https://neurohive.io/en/popular-networks/vgg16/) **K. Simonyan, A. Zisserman.** Very Deep Convolutional Networks for Large-Scale Image Recognition.\n",
    "\n",
    "\n",
    "\n"
   ]
  }
 ],
 "metadata": {
  "kernelspec": {
   "display_name": "Python 3",
   "language": "python",
   "name": "python3"
  },
  "language_info": {
   "codemirror_mode": {
    "name": "ipython",
    "version": 3
   },
   "file_extension": ".py",
   "mimetype": "text/x-python",
   "name": "python",
   "nbconvert_exporter": "python",
   "pygments_lexer": "ipython3",
   "version": "3.8.8"
  },
  "varInspector": {
   "cols": {
    "lenName": 16,
    "lenType": 16,
    "lenVar": 40
   },
   "kernels_config": {
    "python": {
     "delete_cmd_postfix": "",
     "delete_cmd_prefix": "del ",
     "library": "var_list.py",
     "varRefreshCmd": "print(var_dic_list())"
    },
    "r": {
     "delete_cmd_postfix": ") ",
     "delete_cmd_prefix": "rm(",
     "library": "var_list.r",
     "varRefreshCmd": "cat(var_dic_list()) "
    }
   },
   "types_to_exclude": [
    "module",
    "function",
    "builtin_function_or_method",
    "instance",
    "_Feature"
   ],
   "window_display": false
  }
 },
 "nbformat": 4,
 "nbformat_minor": 5
}
