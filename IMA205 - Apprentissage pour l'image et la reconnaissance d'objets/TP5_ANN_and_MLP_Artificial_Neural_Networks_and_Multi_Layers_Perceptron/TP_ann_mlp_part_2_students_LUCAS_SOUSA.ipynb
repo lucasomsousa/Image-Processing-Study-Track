{
  "nbformat": 4,
  "nbformat_minor": 0,
  "metadata": {
    "kernelspec": {
      "display_name": "Python 3",
      "language": "python",
      "name": "python3"
    },
    "language_info": {
      "codemirror_mode": {
        "name": "ipython",
        "version": 3
      },
      "file_extension": ".py",
      "mimetype": "text/x-python",
      "name": "python",
      "nbconvert_exporter": "python",
      "pygments_lexer": "ipython3",
      "version": "3.7.5"
    },
    "colab": {
      "name": "TP_ann_mlp_part_2_students.ipynb",
      "provenance": [],
      "collapsed_sections": []
    }
  },
  "cells": [
    {
      "cell_type": "markdown",
      "source": [
        "# Lucas Oliveira Machado de Sousa"
      ],
      "metadata": {
        "id": "F5B3afBNHdZB"
      }
    },
    {
      "cell_type": "markdown",
      "metadata": {
        "id": "RIjFqlgERHAq"
      },
      "source": [
        "# IMA-205\n",
        "# TP ANN (part B)\n",
        "\n",
        "## Coding a Multi-Layer Perceptron with Tensorflow\n",
        "Author : Alasdair Newson"
      ]
    },
    {
      "cell_type": "markdown",
      "metadata": {
        "id": "oG_lwX5GRHAs"
      },
      "source": [
        "In the second part of this TP, we will be looking at the Multi-Layer Perceptron (MLP) using Tensorflow (http://www.tensorflow.org)\n",
        "\n",
        "We will be using the following packages :\n",
        "   \n",
        "   - Scikit-learn (http://scikit-learn.org/)\n",
        "   - Tensorflow (http://www.tensorflow.org)\n",
        "\n",
        "The following commands will make sure that you have all the necessary packages"
      ]
    },
    {
      "cell_type": "code",
      "metadata": {
        "id": "sCGFw05kRHAs",
        "colab": {
          "base_uri": "https://localhost:8080/"
        },
        "outputId": "95db72e6-9ce4-407a-cc11-9d00f5fad23d"
      },
      "source": [
        "%matplotlib inline                      \n",
        "\n",
        "import numpy as np\n",
        "import matplotlib.pyplot as plt\n",
        "import os\n",
        "import pdb\n",
        "\n",
        "import sklearn  # scikit-learn\n",
        "import tensorflow as tf\n",
        "\n",
        "# import tensorflow models\n",
        "from tensorflow.keras.models import Sequential, Model\n",
        "from tensorflow.keras.layers import Dense, Dropout, Activation, Flatten, Input\n",
        "from tensorflow.keras.layers import Conv2D, MaxPooling2D\n",
        "from tensorflow.keras import optimizers\n",
        "print(tf.keras.__version__)"
      ],
      "execution_count": 2,
      "outputs": [
        {
          "output_type": "stream",
          "name": "stdout",
          "text": [
            "2.8.0\n"
          ]
        }
      ]
    },
    {
      "cell_type": "markdown",
      "metadata": {
        "id": "dxgAcMrMRHAt"
      },
      "source": [
        "# 1 - Multi-Layer Perceptron with Tensorflow"
      ]
    },
    {
      "cell_type": "markdown",
      "metadata": {
        "id": "OjK-B5mkRHAt"
      },
      "source": [
        "## Introduction to TensorFlow"
      ]
    },
    {
      "cell_type": "markdown",
      "metadata": {
        "id": "gzVmdesCRHAu"
      },
      "source": [
        "Tensorflow is an environment written by Google which allows easy implementation of deep neural networks. In particular, it provides automatic differentiation so that the user does not have to determine gradients manually, which can be extremely long even for simple networks, as you have seen in the previous TP*.\n",
        "\n",
        "This, in turn allows a user to apply techniques such as stochastic gradient descent for training purposes. The differentiation graph is created symbolically when the network is created. Since a neural network is simply a cascade (or concatenation) of simple functions, the network in Tensorflow is simply a sequence of functions which are applied to one or several variables. The output of the final function is the output of the network.\n",
        "\n",
        "For instance, if the input were ```x``` and the network consisted of two functions ```a``` and ```b```, you could create the network simply by writing :\n",
        "\n",
        "```y = b(a(x))```\n",
        "\n",
        "However, it is clear that these functions and variables must be of some special type, so that the computer can figure out how to carry out the automatic differentiation for training. Tensorflow provides these functions and variables, which must be created with the Tensorflow package.\n",
        "\n",
        "Previously, Tensorflow required a strict separation between the creation (declaration) of variables and their execution (giving a numerical value, using the ```Session``` function). With Keras and Tensorflow 2, this separation has been removed, and the language has become simpler, in particular for creating and training networks.\n",
        "\n",
        "## Creating a network\n",
        "\n",
        "To create a network, there are two (main) methods :\n",
        "\n",
        "### Creating a model using the Sequential API\n",
        "\n",
        "Tensorflow has a simple way of adding layers to create a neural network. First, you can indicate to Tensorflow that the model is 'sequential' (a simple model, with not many tweaks). For this, you can use the following function :\n",
        "- ```model = Sequential()```\n",
        "\n",
        "After this, you can add layers with the function.\n",
        "\n",
        "- ```model.add()```\n",
        "\n",
        "You can then use the ```Dense``` (and other) functions to specify different layer types.  __Note that in the case of this approach, you will have to specify the input image size in the first layer of the network, inside the first layer function.__ So, for example, if the first layer is a dense layer with a relu activation, with n_out output neurons, and n_input neurons :\n",
        "\n",
        "- model = Sequential()\n",
        "- model.add(Dense(n_out,activation,input_shape=(n_in,),activation='relu'))\n",
        "\n",
        "Otherwise, the network does not know how many weights to create. __Be careful of this special case (the first layer)__ \n",
        "\n",
        "### Creating a model using the standard API\n",
        "\n",
        "Otherwise, another approach to creating the model is to explicitly create the input variable, and just cascade the different functions, as in Tensorflow. So, for the same example, we would have :\n",
        "\n",
        "- input = Input(shape=(n_in,))\n",
        "- output = Dense(n_in,n_out,activation='relu')(input)\n",
        "- model = Model(input, output)\n",
        "\n",
        "\n",
        "For now, let's use the Sequential API (however, if you want to try the standard API, go ahead).\n",
        "\n",
        "## Training and testing a network\n",
        "\n",
        "Tensorflow allows the easy training of a network with the following functions :\n",
        "\n",
        "- model.compile(loss='binary_crossentropy', optimizer=optimizers.Adam(lr=learning_rate)) : create the loss function and define the optimiser used. This function can do many other useful things (such as specifying different metrics to look at the model's performance\n",
        "\n",
        "- model.fit(...) : train the model\n",
        "- model.evaluate(...) : test the model\n",
        "- model.predict(...) : carry out a simple forward pass on the model\n",
        "\n",
        "Please look at the Tensorflow documenation for further details on these functions.\n"
      ]
    },
    {
      "cell_type": "markdown",
      "metadata": {
        "id": "UYFxzt5mRHAy"
      },
      "source": [
        "# MLP with TensorFlow\n",
        "\n",
        "We are now going to create an MLP with tensorflow. We will start with an MLP with one hidden layer. The network should consist of the following operations, in the following order :\n",
        "\n",
        "- Fully connected layer, with weights w1 and biases b1\n",
        "- ReLU activation\n",
        "- Fully connected layer, with weights w2 and biases b2\n",
        "- Sigmoid output activation\n",
        "\n",
        "We are going to be solving a binary classification \n",
        "problem, so the output of the network should be a scalar between 0 and 1 (thus the last layer is a Sigmoid activation).\n",
        "\n",
        "The loss function should be defined as the binary cross-entropy between the predicted class and the true class\n"
      ]
    },
    {
      "cell_type": "markdown",
      "metadata": {
        "id": "jdGVzE6NRHAy"
      },
      "source": [
        "First, we load the data."
      ]
    },
    {
      "cell_type": "code",
      "metadata": {
        "id": "EfiJwuLmRHAy",
        "colab": {
          "base_uri": "https://localhost:8080/",
          "height": 265
        },
        "outputId": "75fb6e81-3aa5-44a7-b078-8d1bd0e62e89"
      },
      "source": [
        "from sklearn import datasets\n",
        "from sklearn.preprocessing import MinMaxScaler\n",
        "from sklearn.model_selection import train_test_split\n",
        "\n",
        "X, Y = datasets.make_circles(n_samples=1000, noise=0.05, factor=0.5)\n",
        "# X, y = datasets.make_moons(n_samples=1000, random_state=42)  # try with 2 moons\n",
        "X = MinMaxScaler().fit_transform(X)\n",
        "\n",
        "#show data in plot\n",
        "plt.plot(X[Y == 1, 0], X[Y == 1, 1], 'ro')\n",
        "plt.plot(X[Y == 0, 0], X[Y == 0, 1], 'bo')\n",
        "plt.grid('on')"
      ],
      "execution_count": 3,
      "outputs": [
        {
          "output_type": "display_data",
          "data": {
            "text/plain": [
              "<Figure size 432x288 with 1 Axes>"
            ],
            "image/png": "[encoded data removed]"
          },
          "metadata": {
            "needs_background": "light"
          }
        }
      ]
    },
    {
      "cell_type": "markdown",
      "metadata": {
        "id": "cRL1c6UyRHAy"
      },
      "source": [
        "We are now going to define some useful auxillary functions.\n",
        "\n",
        "First, a function that shows the decision boundary of our network. This works only for 2D input data"
      ]
    },
    {
      "cell_type": "code",
      "metadata": {
        "id": "x0cUhY8xRHAz"
      },
      "source": [
        "# THIS CODE IS GIVEN\n",
        "\n",
        "def plot_decision_function_2d(model_mlp, X, Y):\n",
        "   # create a mesh to plot in\n",
        "    h = .02  # step size in the mesh\n",
        "    offset = 0.1\n",
        "    x_min, x_max = X[:, 0].min() - offset, X[:, 0].max() + offset\n",
        "    y_min, y_max = X[:, 1].min() - offset, X[:, 1].max() + offset\n",
        "    xx, yy = np.meshgrid(np.arange(x_min, x_max, h),\n",
        "                         np.arange(y_min, y_max, h))\n",
        "\n",
        "    # Plot the decision boundary. For that, we will assign a color to each\n",
        "    # point in the mesh [x_min, x_max]x[y_min, y_max].\n",
        "    Z = model_mlp.predict(np.c_[xx.ravel(), yy.ravel()])\n",
        "    print(Z.shape)\n",
        "    print(Z)\n",
        "    \n",
        "    Z = Z<0.5\n",
        "    # Put the result into a color plot\n",
        "    Z = Z.reshape(xx.shape)\n",
        "    plt.figure()\n",
        "    plt.contourf(xx, yy, Z, cmap=plt.cm.Paired)\n",
        "\n",
        "    plt.plot(X[Y == 1, 0], X[Y == 1, 1], 'yo')\n",
        "    plt.plot(X[Y == 0, 0], X[Y == 0, 1], 'ko')\n",
        "\n",
        "    plt.title(\"Decision surface\")\n",
        "    plt.axis('tight')"
      ],
      "execution_count": 4,
      "outputs": []
    },
    {
      "cell_type": "markdown",
      "metadata": {
        "id": "CKtZJ5iQRHA0"
      },
      "source": [
        "## CREATING AND TRAINING THE MODEL\n",
        "\n",
        "We are now ready to create our network with a Tensorflow Session and to carry out training on our training dataset."
      ]
    },
    {
      "cell_type": "code",
      "metadata": {
        "id": "WO8dHtrGRHA0",
        "colab": {
          "base_uri": "https://localhost:8080/"
        },
        "outputId": "20b4878f-18ae-4a43-be90-97cb88c28857"
      },
      "source": [
        "# FILL IN CODE BY STUDENTS IN THIS SECTION\n",
        "\n",
        "#We split up the data into training and test data, using a function from Scikit-learn :\n",
        "X_train, X_test, Y_train, Y_test = train_test_split(X, Y, test_size=0.15)\n",
        "print(X_train.shape)\n",
        "\n",
        "# Layer sizes\n",
        "n_input = X.shape[1]  # Number of input features\n",
        "n_hidden = 50  # Number of hidden nodes\n",
        "\n",
        "# create the model (using the sequential API)\n",
        "\n",
        "model_mlp = Sequential()   # FILL IN STUDENTS\n",
        "model_mlp.add(Dense(units=n_hidden, activation='relu', input_shape=(n_input,) ))\n",
        "model_mlp.add(Dense(units=1, activation='sigmoid'))\n",
        "\n",
        "# create the loss and optimiser\n",
        "learning_rate = 0.01\n",
        "model_mlp.compile(loss='binary_crossentropy', optimizer=optimizers.Adam(lr=learning_rate), metrics=[\"accuracy\"]) # TO FILL IN\n",
        "\n",
        "# Run optimisation algorithm\n",
        "n_epochs = 20\n",
        "batch_size = 64\n",
        "\n",
        "print('Training')\n",
        "model_mlp.fit(X_train, Y_train, epochs=n_epochs, batch_size=batch_size) # TO FILL IN\n",
        "\n",
        "print('Testing')\n",
        "model_mlp.evaluate(X_test, Y_test, verbose=2) # TO FILL IN\n"
      ],
      "execution_count": 5,
      "outputs": [
        {
          "output_type": "stream",
          "name": "stdout",
          "text": [
            "(850, 2)\n"
          ]
        },
        {
          "output_type": "stream",
          "name": "stderr",
          "text": [
            "/usr/local/lib/python3.7/dist-packages/keras/optimizer_v2/adam.py:105: UserWarning: The `lr` argument is deprecated, use `learning_rate` instead.\n",
            "  super(Adam, self).__init__(name, **kwargs)\n"
          ]
        },
        {
          "output_type": "stream",
          "name": "stdout",
          "text": [
            "Training\n",
            "Epoch 1/20\n",
            "14/14 [==============================] - 1s 3ms/step - loss: 0.6806 - accuracy: 0.5706\n",
            "Epoch 2/20\n",
            "14/14 [==============================] - 0s 4ms/step - loss: 0.6677 - accuracy: 0.6235\n",
            "Epoch 3/20\n",
            "14/14 [==============================] - 0s 4ms/step - loss: 0.6523 - accuracy: 0.5824\n",
            "Epoch 4/20\n",
            "14/14 [==============================] - 0s 3ms/step - loss: 0.6330 - accuracy: 0.6612\n",
            "Epoch 5/20\n",
            "14/14 [==============================] - 0s 3ms/step - loss: 0.6139 - accuracy: 0.6471\n",
            "Epoch 6/20\n",
            "14/14 [==============================] - 0s 4ms/step - loss: 0.5913 - accuracy: 0.7329\n",
            "Epoch 7/20\n",
            "14/14 [==============================] - 0s 3ms/step - loss: 0.5652 - accuracy: 0.7318\n",
            "Epoch 8/20\n",
            "14/14 [==============================] - 0s 4ms/step - loss: 0.5426 - accuracy: 0.7365\n",
            "Epoch 9/20\n",
            "14/14 [==============================] - 0s 5ms/step - loss: 0.5211 - accuracy: 0.7835\n",
            "Epoch 10/20\n",
            "14/14 [==============================] - 0s 3ms/step - loss: 0.4959 - accuracy: 0.7835\n",
            "Epoch 11/20\n",
            "14/14 [==============================] - 0s 5ms/step - loss: 0.4602 - accuracy: 0.8306\n",
            "Epoch 12/20\n",
            "14/14 [==============================] - 0s 3ms/step - loss: 0.4363 - accuracy: 0.8624\n",
            "Epoch 13/20\n",
            "14/14 [==============================] - 0s 3ms/step - loss: 0.3966 - accuracy: 0.9129\n",
            "Epoch 14/20\n",
            "14/14 [==============================] - 0s 3ms/step - loss: 0.3609 - accuracy: 0.9271\n",
            "Epoch 15/20\n",
            "14/14 [==============================] - 0s 3ms/step - loss: 0.3300 - accuracy: 0.9376\n",
            "Epoch 16/20\n",
            "14/14 [==============================] - 0s 5ms/step - loss: 0.2928 - accuracy: 0.9647\n",
            "Epoch 17/20\n",
            "14/14 [==============================] - 0s 3ms/step - loss: 0.2581 - accuracy: 0.9847\n",
            "Epoch 18/20\n",
            "14/14 [==============================] - 0s 4ms/step - loss: 0.2245 - accuracy: 0.9988\n",
            "Epoch 19/20\n",
            "14/14 [==============================] - 0s 3ms/step - loss: 0.1973 - accuracy: 0.9976\n",
            "Epoch 20/20\n",
            "14/14 [==============================] - 0s 3ms/step - loss: 0.1727 - accuracy: 1.0000\n",
            "Testing\n",
            "5/5 - 0s - loss: 0.1585 - accuracy: 1.0000 - 287ms/epoch - 57ms/step\n"
          ]
        },
        {
          "output_type": "execute_result",
          "data": {
            "text/plain": [
              "[0.15849365293979645, 1.0]"
            ]
          },
          "metadata": {},
          "execution_count": 5
        }
      ]
    },
    {
      "cell_type": "code",
      "metadata": {
        "id": "lpBaU1rcc0oY",
        "colab": {
          "base_uri": "https://localhost:8080/",
          "height": 420
        },
        "outputId": "ad98585f-2ba0-424f-d6db-729d49f8d23e"
      },
      "source": [
        "plot_decision_function_2d(model_mlp, X_test, Y_test)"
      ],
      "execution_count": 6,
      "outputs": [
        {
          "output_type": "stream",
          "name": "stdout",
          "text": [
            "(3422, 1)\n",
            "[[0.00121787]\n",
            " [0.00175259]\n",
            " [0.00252143]\n",
            " ...\n",
            " [0.00241694]\n",
            " [0.0019806 ]\n",
            " [0.00162297]]\n"
          ]
        },
        {
          "output_type": "display_data",
          "data": {
            "text/plain": [
              "<Figure size 432x288 with 1 Axes>"
            ],
            "image/png": "[encoded data removed]"
          },
          "metadata": {
            "needs_background": "light"
          }
        }
      ]
    },
    {
      "cell_type": "markdown",
      "metadata": {
        "id": "6oni6Q5vRHA0"
      },
      "source": [
        "# MLP with several hidden layers\n",
        "\n",
        "We are now going to create an MLP with several hidden layers. We are going to use a more complicated dataset : the MNIST dataset, which contains images of handwritten digits. There are 10 classes, one for each digit.\n",
        "\n",
        "We are going to implement the following architecture :\n",
        "\n",
        "- Fully connected layer\n",
        "- Relu activation\n",
        "- Fully connected layer\n",
        "- Relu activation\n",
        "- Fully connected layer\n",
        "- Relu activation\n",
        "- Fully connected layer\n",
        "- Softmax output activation\n",
        "\n",
        "__IMPORTANT Note__ The sigmoid layer has been replaced by a softmax layer (at the end). This is normal, since we have a multi-class problem.\n",
        "\n",
        "\n",
        "First, we load the MNIST dataset."
      ]
    },
    {
      "cell_type": "code",
      "metadata": {
        "id": "Z0cGLMKRRHA0",
        "colab": {
          "base_uri": "https://localhost:8080/"
        },
        "outputId": "87b4c551-5fe2-4253-d6a1-2dbcfc84c548"
      },
      "source": [
        "# Import MNIST data\n",
        "mnist = tf.keras.datasets.mnist\n",
        "(X_train, y_train),(X_test, y_test) = mnist.load_data()\n",
        "\n",
        "Y_train = tf.keras.utils.to_categorical(y_train)  # in order to convert y to a matrix with (num_examples, num_classes) (one-hot encoding)\n",
        "Y_test = tf.keras.utils.to_categorical(y_test)  # in order to convert y to a matrix with (num_examples, num_classes) (one-hot encoding)\n",
        "\n",
        "#reshape the input images : flatten the last two dimensions\n",
        "X_train = np.reshape(X_train,(X_train.shape[0],X_train.shape[1]*X_train.shape[2]))\n",
        "X_test = np.reshape(X_test,(X_test.shape[0],X_test.shape[1]*X_test.shape[2]))\n"
      ],
      "execution_count": 7,
      "outputs": [
        {
          "output_type": "stream",
          "name": "stdout",
          "text": [
            "Downloading data from https://storage.googleapis.com/tensorflow/tf-keras-datasets/mnist.npz\n",
            "11493376/11490434 [==============================] - 0s 0us/step\n",
            "11501568/11490434 [==============================] - 0s 0us/step\n"
          ]
        }
      ]
    },
    {
      "cell_type": "markdown",
      "metadata": {
        "id": "EzMV_9-NRHA1"
      },
      "source": [
        "Finally, fill in the following code to create and train your MLP"
      ]
    },
    {
      "cell_type": "code",
      "metadata": {
        "id": "2G7AToqyRHA1",
        "colab": {
          "base_uri": "https://localhost:8080/"
        },
        "outputId": "4b743e24-7a38-437b-e0ca-56c816698fbd"
      },
      "source": [
        "# Network Parameters\n",
        "n_hidden_1 = 256 # 1st layer number of neurons\n",
        "n_hidden_2 = 256 # 2nd layer number of neurons\n",
        "n_hidden_3 = 128 # 2nd layer number of neurons\n",
        "\n",
        "n_input = X_train.shape[1]\n",
        "n_classes = Y_train.shape[1] # MNIST total classes (0-9 digits)\n",
        "\n",
        "# TO CODE BY STUDENTS\n",
        "\n",
        "model_mlp_multi_layer = Sequential()\n",
        "model_mlp_multi_layer.add(Dense(units=n_hidden_1, activation='relu', input_shape=(n_input,) ))\n",
        "model_mlp_multi_layer.add(Dense(units=n_hidden_2, activation='relu'))\n",
        "model_mlp_multi_layer.add(Dense(units=n_hidden_3, activation='relu'))\n",
        "model_mlp_multi_layer.add(Dense(units=n_classes, activation='softmax'))\n",
        "\n",
        "# create the loss and optimiser, use 'categorical_crossentropy' in loss\n",
        "learning_rate = 0.01\n",
        "model_mlp_multi_layer.compile(loss='categorical_crossentropy', optimizer=optimizers.Adam(learning_rate=learning_rate), metrics=[\"accuracy\"]) # TO FILL IN\n",
        "\n",
        "# Run optimisation algorithm\n",
        "n_epochs = 4\n",
        "batch_size = 64\n",
        "\n",
        "print('Training')\n",
        "model_mlp_multi_layer.fit(X_train, Y_train, epochs=n_epochs, batch_size=batch_size) # TO FILL IN\n",
        "\n",
        "print('Testing')\n",
        "model_mlp_multi_layer.evaluate(X_test, Y_test, verbose=2) # TO FILL IN"
      ],
      "execution_count": 18,
      "outputs": [
        {
          "output_type": "stream",
          "name": "stdout",
          "text": [
            "Training\n",
            "Epoch 1/4\n",
            "938/938 [==============================] - 8s 7ms/step - loss: 2.0138 - accuracy: 0.8712\n",
            "Epoch 2/4\n",
            "938/938 [==============================] - 6s 7ms/step - loss: 0.2697 - accuracy: 0.9278\n",
            "Epoch 3/4\n",
            "938/938 [==============================] - 6s 7ms/step - loss: 0.2792 - accuracy: 0.9280\n",
            "Epoch 4/4\n",
            "938/938 [==============================] - 8s 8ms/step - loss: 0.3562 - accuracy: 0.9169\n",
            "Testing\n",
            "313/313 - 1s - loss: 0.2975 - accuracy: 0.9331 - 734ms/epoch - 2ms/step\n"
          ]
        },
        {
          "output_type": "execute_result",
          "data": {
            "text/plain": [
              "[0.29746493697166443, 0.9330999851226807]"
            ]
          },
          "metadata": {},
          "execution_count": 18
        }
      ]
    },
    {
      "cell_type": "markdown",
      "source": [
        "I've noticed that after about 4 or 5 epochs, the accuracy would drop significantly, therefore I've limited the number of epochs."
      ],
      "metadata": {
        "id": "9eUPWfliRJhI"
      }
    },
    {
      "cell_type": "code",
      "metadata": {
        "id": "s6Q-JntxluxG"
      },
      "source": [
        "# THIS CODE IS GIVEN\n",
        "\n",
        "def test_mnist_images(model_mlp_multi_layer,X_test):\n",
        "  plt.figure(figsize=(10, 6))\n",
        "  for idx in range(0,10):\n",
        "      plt.subplot(2, 5, idx+1)\n",
        "      rand_ind = np.random.randint(0,X_test.shape[0])\n",
        "      plt.imshow(np.reshape(X_test[rand_ind,:],(28,28)),cmap='gray')\n",
        "      # get prediction\n",
        "      model_prediction = np.argmax(model_mlp_multi_layer.predict(np.expand_dims( X_test[rand_ind,:], axis=0)),axis=1)\n",
        "      plt.title(int(model_prediction))"
      ],
      "execution_count": 12,
      "outputs": []
    },
    {
      "cell_type": "code",
      "metadata": {
        "id": "r2D9RE4apVWW",
        "colab": {
          "base_uri": "https://localhost:8080/",
          "height": 338
        },
        "outputId": "8e2c4aef-fba0-4575-cf2c-f968b326a737"
      },
      "source": [
        "test_mnist_images(model_mlp_multi_layer,X_test)"
      ],
      "execution_count": 19,
      "outputs": [
        {
          "output_type": "display_data",
          "data": {
            "text/plain": [
              "<Figure size 720x432 with 10 Axes>"
            ],
            "image/png": "[encoded data removed]"
          },
          "metadata": {
            "needs_background": "light"
          }
        }
      ]
    },
    {
      "cell_type": "markdown",
      "metadata": {
        "id": "lItdBVnfu7xK"
      },
      "source": [
        "You may observe some difficulties in getting good performance in this case. To improve training, we can turn to __regularisation__"
      ]
    },
    {
      "cell_type": "markdown",
      "metadata": {
        "id": "Vgao_U5XRHA2"
      },
      "source": [
        "## BATCH NORMALISATION\n",
        "\n",
        "One approach to regularisation which we have seen during the lesson is known as batch normalisation, which we have seen during the lesson. This can be implemented very simply in Tensorflow by adding the following layer :\n",
        "\n",
        "- ```BatchNormalization()```\n",
        "\n",
        "Change your model below, and implement this using your code above"
      ]
    },
    {
      "cell_type": "code",
      "metadata": {
        "id": "6Ela5-4XRHA2",
        "colab": {
          "base_uri": "https://localhost:8080/"
        },
        "outputId": "2df33cf4-b4a4-4432-842f-35d27a0bbb99"
      },
      "source": [
        "from tensorflow.keras.layers import Dense, BatchNormalization\n",
        "\n",
        "# TO CODE BY STUDENTS\n",
        "\n",
        "model_mlp_multi_layer = Sequential()\n",
        "model_mlp_multi_layer.add(Dense(units=n_hidden_1, activation='relu', input_shape=(n_input,) ))\n",
        "model_mlp_multi_layer.add(BatchNormalization())\n",
        "model_mlp_multi_layer.add(Dense(units=n_hidden_2, activation='relu'))\n",
        "model_mlp_multi_layer.add(BatchNormalization())\n",
        "model_mlp_multi_layer.add(Dense(units=n_hidden_3, activation='relu'))\n",
        "model_mlp_multi_layer.add(BatchNormalization())\n",
        "model_mlp_multi_layer.add(Dense(units=n_classes, activation='softmax'))\n",
        "\n",
        "# create the loss and optimiser, use 'categorical_crossentropy' in loss\n",
        "learning_rate = 0.01\n",
        "model_mlp_multi_layer.compile(loss='categorical_crossentropy', optimizer=optimizers.Adam(learning_rate=learning_rate), metrics=[\"accuracy\"]) # TO FILL IN\n",
        "\n",
        "# Run optimisation algorithm\n",
        "n_epochs = 20\n",
        "batch_size = 64\n",
        "\n",
        "print('Training')\n",
        "model_mlp_multi_layer.fit(X_train, Y_train, epochs=n_epochs, batch_size=batch_size) # TO FILL IN\n",
        "\n",
        "print('Testing')\n",
        "model_mlp_multi_layer.evaluate(X_test, Y_test, verbose=2) # TO FILL IN\n"
      ],
      "execution_count": 21,
      "outputs": [
        {
          "output_type": "stream",
          "name": "stdout",
          "text": [
            "Training\n",
            "Epoch 1/20\n",
            "938/938 [==============================] - 9s 9ms/step - loss: 0.2272 - accuracy: 0.9319\n",
            "Epoch 2/20\n",
            "938/938 [==============================] - 8s 9ms/step - loss: 0.1235 - accuracy: 0.9619\n",
            "Epoch 3/20\n",
            "938/938 [==============================] - 8s 8ms/step - loss: 0.1006 - accuracy: 0.9682\n",
            "Epoch 4/20\n",
            "938/938 [==============================] - 9s 10ms/step - loss: 0.0815 - accuracy: 0.9742\n",
            "Epoch 5/20\n",
            "938/938 [==============================] - 8s 9ms/step - loss: 0.0693 - accuracy: 0.9786\n",
            "Epoch 6/20\n",
            "938/938 [==============================] - 8s 8ms/step - loss: 0.0622 - accuracy: 0.9805\n",
            "Epoch 7/20\n",
            "938/938 [==============================] - 8s 9ms/step - loss: 0.0562 - accuracy: 0.9820\n",
            "Epoch 8/20\n",
            "938/938 [==============================] - 9s 10ms/step - loss: 0.0492 - accuracy: 0.9848\n",
            "Epoch 9/20\n",
            "938/938 [==============================] - 8s 9ms/step - loss: 0.0492 - accuracy: 0.9844\n",
            "Epoch 10/20\n",
            "938/938 [==============================] - 8s 9ms/step - loss: 0.0391 - accuracy: 0.9874\n",
            "Epoch 11/20\n",
            "938/938 [==============================] - 9s 10ms/step - loss: 0.0395 - accuracy: 0.9868\n",
            "Epoch 12/20\n",
            "938/938 [==============================] - 8s 9ms/step - loss: 0.0330 - accuracy: 0.9893\n",
            "Epoch 13/20\n",
            "938/938 [==============================] - 8s 9ms/step - loss: 0.0316 - accuracy: 0.9894\n",
            "Epoch 14/20\n",
            "938/938 [==============================] - 8s 9ms/step - loss: 0.0309 - accuracy: 0.9896\n",
            "Epoch 15/20\n",
            "938/938 [==============================] - 11s 12ms/step - loss: 0.0279 - accuracy: 0.9907\n",
            "Epoch 16/20\n",
            "938/938 [==============================] - 8s 9ms/step - loss: 0.0251 - accuracy: 0.9917\n",
            "Epoch 17/20\n",
            "938/938 [==============================] - 8s 8ms/step - loss: 0.0230 - accuracy: 0.9926\n",
            "Epoch 18/20\n",
            "938/938 [==============================] - 8s 8ms/step - loss: 0.0259 - accuracy: 0.9917\n",
            "Epoch 19/20\n",
            "938/938 [==============================] - 10s 10ms/step - loss: 0.0219 - accuracy: 0.9929\n",
            "Epoch 20/20\n",
            "938/938 [==============================] - 8s 9ms/step - loss: 0.0217 - accuracy: 0.9929\n",
            "Testing\n",
            "313/313 - 1s - loss: 0.0826 - accuracy: 0.9798 - 766ms/epoch - 2ms/step\n"
          ]
        },
        {
          "output_type": "execute_result",
          "data": {
            "text/plain": [
              "[0.08257900178432465, 0.9797999858856201]"
            ]
          },
          "metadata": {},
          "execution_count": 21
        }
      ]
    },
    {
      "cell_type": "code",
      "metadata": {
        "id": "cSxGzvQ3pg3u",
        "colab": {
          "base_uri": "https://localhost:8080/",
          "height": 338
        },
        "outputId": "393b699f-b274-481a-84a8-c9a12903fb2e"
      },
      "source": [
        "test_mnist_images(model_mlp_multi_layer, X_test)"
      ],
      "execution_count": 22,
      "outputs": [
        {
          "output_type": "display_data",
          "data": {
            "text/plain": [
              "<Figure size 720x432 with 10 Axes>"
            ],
            "image/png": "[encoded data removed]"
          },
          "metadata": {
            "needs_background": "light"
          }
        }
      ]
    },
    {
      "cell_type": "markdown",
      "metadata": {
        "id": "Wp2VIfZ1v7lN"
      },
      "source": [
        "**Question :** do you observe improved convergence ? \\\\\n",
        "**Answer :** Yes, the accuracy improved from around 90% (using only 4 epochs for the first test; after the 4th epoch, the accuracy drops drastically) to 99.3% using batch normalization."
      ]
    },
    {
      "cell_type": "markdown",
      "source": [
        "## Dropout\n",
        "\n",
        "You may see that there is a difference between the training accuracy and the testing accuracy. This is the problem of overfitting. To alleviate this problem, we can turn to _dropout_:\n",
        "\n",
        "```tf.keras.layers.Dropout(rate,...)```\n",
        "\n",
        "where rate is the probability that an input neuron to a layer will get set to 0. You can do this in any layer. Use the previous architecture and try out the droupout. Set the dropout rate to 0.1 as a first test."
      ],
      "metadata": {
        "id": "iQPJDop31Nci"
      }
    },
    {
      "cell_type": "code",
      "source": [
        "from tensorflow.keras.layers import Dense, BatchNormalization, Dropout\n",
        "\n",
        "# TO CODE BY STUDENTS\n",
        "dropRate = 0.1\n",
        "\n",
        "model_mlp_multi_layer = Sequential()\n",
        "model_mlp_multi_layer.add(Dropout(rate=dropRate, input_shape=(n_input,)) )\n",
        "model_mlp_multi_layer.add(Dense(units=n_hidden_1, activation='relu'))\n",
        "model_mlp_multi_layer.add(BatchNormalization())\n",
        "\n",
        "model_mlp_multi_layer.add(Dropout(rate=dropRate))\n",
        "model_mlp_multi_layer.add(Dense(units=n_hidden_2, activation='relu'))\n",
        "model_mlp_multi_layer.add(BatchNormalization())\n",
        "\n",
        "#model_mlp_multi_layer.add(Dropout(rate=dropRate))\n",
        "model_mlp_multi_layer.add(Dense(units=n_hidden_3, activation='relu'))\n",
        "model_mlp_multi_layer.add(BatchNormalization())\n",
        "model_mlp_multi_layer.add(Dense(units=n_classes, activation='softmax'))\n",
        "\n",
        "\n",
        "# create the loss and optimiser, use 'categorical_crossentropy' in loss\n",
        "learning_rate = 0.01\n",
        "model_mlp_multi_layer.compile(loss='categorical_crossentropy', optimizer=optimizers.Adam(learning_rate=learning_rate), metrics=[\"accuracy\"]) # TO FILL IN\n",
        "\n",
        "# Run optimisation algorithm\n",
        "n_epochs = 20\n",
        "batch_size = 64\n",
        "\n",
        "print('Training')\n",
        "model_mlp_multi_layer.fit(X_train, Y_train, epochs=n_epochs, batch_size=batch_size) # TO FILL IN\n",
        "\n",
        "print('Testing')\n",
        "model_mlp_multi_layer.evaluate(X_test, Y_test, verbose=2) # TO FILL IN\n"
      ],
      "metadata": {
        "id": "x-BF-fpo1PpW",
        "colab": {
          "base_uri": "https://localhost:8080/"
        },
        "outputId": "d04f881d-524c-4c7f-d8b8-433654dac920"
      },
      "execution_count": 32,
      "outputs": [
        {
          "output_type": "stream",
          "name": "stdout",
          "text": [
            "Training\n",
            "Epoch 1/20\n",
            "938/938 [==============================] - 11s 10ms/step - loss: 0.2563 - accuracy: 0.9204\n",
            "Epoch 2/20\n",
            "938/938 [==============================] - 8s 9ms/step - loss: 0.1485 - accuracy: 0.9537\n",
            "Epoch 3/20\n",
            "938/938 [==============================] - 8s 9ms/step - loss: 0.1241 - accuracy: 0.9615\n",
            "Epoch 4/20\n",
            "938/938 [==============================] - 8s 9ms/step - loss: 0.1095 - accuracy: 0.9659\n",
            "Epoch 5/20\n",
            "938/938 [==============================] - 9s 9ms/step - loss: 0.0964 - accuracy: 0.9698\n",
            "Epoch 6/20\n",
            "938/938 [==============================] - 8s 9ms/step - loss: 0.0912 - accuracy: 0.9710\n",
            "Epoch 7/20\n",
            "938/938 [==============================] - 8s 9ms/step - loss: 0.0799 - accuracy: 0.9748\n",
            "Epoch 8/20\n",
            "938/938 [==============================] - 8s 9ms/step - loss: 0.0735 - accuracy: 0.9768\n",
            "Epoch 9/20\n",
            "938/938 [==============================] - 8s 9ms/step - loss: 0.0726 - accuracy: 0.9769\n",
            "Epoch 10/20\n",
            "938/938 [==============================] - 8s 9ms/step - loss: 0.0631 - accuracy: 0.9798\n",
            "Epoch 11/20\n",
            "938/938 [==============================] - 8s 9ms/step - loss: 0.0606 - accuracy: 0.9808\n",
            "Epoch 12/20\n",
            "938/938 [==============================] - 8s 9ms/step - loss: 0.0557 - accuracy: 0.9820\n",
            "Epoch 13/20\n",
            "938/938 [==============================] - 9s 9ms/step - loss: 0.0533 - accuracy: 0.9830\n",
            "Epoch 14/20\n",
            "938/938 [==============================] - 8s 9ms/step - loss: 0.0501 - accuracy: 0.9837\n",
            "Epoch 15/20\n",
            "938/938 [==============================] - 8s 9ms/step - loss: 0.0475 - accuracy: 0.9846\n",
            "Epoch 16/20\n",
            "938/938 [==============================] - 8s 9ms/step - loss: 0.0469 - accuracy: 0.9843\n",
            "Epoch 17/20\n",
            "938/938 [==============================] - 8s 9ms/step - loss: 0.0450 - accuracy: 0.9855\n",
            "Epoch 18/20\n",
            "938/938 [==============================] - 8s 9ms/step - loss: 0.0401 - accuracy: 0.9870\n",
            "Epoch 19/20\n",
            "938/938 [==============================] - 8s 9ms/step - loss: 0.0408 - accuracy: 0.9870\n",
            "Epoch 20/20\n",
            "938/938 [==============================] - 9s 9ms/step - loss: 0.0377 - accuracy: 0.9873\n",
            "Testing\n",
            "313/313 - 1s - loss: 0.0657 - accuracy: 0.9805 - 778ms/epoch - 2ms/step\n"
          ]
        },
        {
          "output_type": "execute_result",
          "data": {
            "text/plain": [
              "[0.0656852275133133, 0.9804999828338623]"
            ]
          },
          "metadata": {},
          "execution_count": 32
        }
      ]
    },
    {
      "cell_type": "markdown",
      "source": [
        "I've tried using dropout with different dropout rates, but the bigger the rate the worse the accuracy. I've tried as well some different configurations structures (such as with vs. without dropout on the last layer). The accuracy remained around 99%. This means that our MLP is probably not overfitting the data, since the use of dropout didn't improve accuracy."
      ],
      "metadata": {
        "id": "JZOWMQmFaYZH"
      }
    },
    {
      "cell_type": "markdown",
      "metadata": {
        "id": "Y2CWgKZeRHA2"
      },
      "source": [
        "#### Documentation:\n",
        "\n",
        "  - http://www.tensorflow.org\n",
        "  - http://www.deeplearningbook.org/"
      ]
    }
  ]
}