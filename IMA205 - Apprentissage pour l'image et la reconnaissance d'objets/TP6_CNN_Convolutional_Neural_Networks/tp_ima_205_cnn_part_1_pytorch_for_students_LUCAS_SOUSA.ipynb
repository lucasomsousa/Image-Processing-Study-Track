{
  "nbformat": 4,
  "nbformat_minor": 0,
  "metadata": {
    "kernelspec": {
      "name": "python3",
      "display_name": "Python 3"
    },
    "language_info": {
      "codemirror_mode": {
        "name": "ipython",
        "version": 3
      },
      "file_extension": ".py",
      "mimetype": "text/x-python",
      "name": "python",
      "nbconvert_exporter": "python",
      "pygments_lexer": "ipython3",
      "version": "3.7.4"
    },
    "colab": {
      "name": "tp_ima_205_cnn_part_1_pytorch_for_students.ipynb",
      "provenance": [],
      "collapsed_sections": [
        "sIvS5eHEW1_A"
      ]
    }
  },
  "cells": [
    {
      "cell_type": "markdown",
      "metadata": {
        "id": "Es_iHEzxW190"
      },
      "source": [
        "# TP Coding Convolutional Neural Networks in tensorflow and keras\n",
        "\n",
        "For any remark or suggestion, please feel free to contact me at:\n",
        "\n",
        "- alasdair.newson@telecom-paris.fr\n",
        "\n",
        "### Objective:\n",
        "\n",
        "We want to implement a Convolutional Neural Network (CNN) for image recognition. For this we will use two well-known datasets, the first simpler and the second more complicated :\n",
        "\n",
        "- MNIST (images of digits)\n",
        "- CIFAR-10 dataset https://www.cs.toronto.edu/~kriz/cifar.html.\n",
        "\n",
        "The CIFAR-10 dataset consists of 60000 32x32 colour images in 10 classes, with 6000 images per class. There are 50000 training images and 10000 test images.\n",
        "\n",
        "We will first code the simple ConvNet described below using the Pytorch environment : https://pytorch.org/.\n",
        "\n",
        "- The input of the CNN is a set of (3,m,n) image tensors (m and n depend on the dataset).\n",
        "- We apply \n",
        "    - a Convolutional layer of 32 filters of shape (3,3), with stride (1,1) and padding='same' (i.e. we do apply zero-padding)\n",
        "    - additive biases\n",
        "    - a ReLu activation function\n",
        "    - a Convolutional layer of 32 filters of shape (3,3), with stride (1,1) and padding='same' (i.e. we do apply zero-padding)\n",
        "    - additive biases\n",
        "    - a ReLu activation function\n",
        "    - a Max Pooling Layer of shape (2,2) and stride (2,2) (i.e. we reduce by two the size in each dimension)\n",
        "    - We then Flatten the data (reduce them to a vector in order to be able to apply a Fully-Connected layer to it)\n",
        "    - A softmax activation function which outputs are the $P(y_c | X)$ (multi-class problem)\n",
        "\n",
        "\n",
        "<IMG SRC='https://perso.telecom-paristech.fr/anewson/doc/ima_205/images/TP_ima_CNN.png'>\n",
        "    \n",
        "You should use the \"SAME\" border conditions.\n",
        "    \n",
        "### Your task:\n",
        "You need to add the missing parts in the code (parts between # --- START CODE HERE and # --- END CODE HERE)"
      ]
    },
    {
      "cell_type": "markdown",
      "metadata": {
        "id": "Cgyu2GBVW192"
      },
      "source": [
        "# Load packages"
      ]
    },
    {
      "cell_type": "code",
      "metadata": {
        "id": "1Qj5KY79W192"
      },
      "source": [
        "%matplotlib inline\n",
        "import matplotlib.pyplot as plt\n",
        "import numpy as np\n",
        "\n",
        "import torch\n",
        "import torch.nn as nn\n",
        "import torch.nn.functional as F\n",
        "import torch.optim as optim\n",
        "import torchvision.datasets as datasets\n",
        "import torchvision.transforms as transforms"
      ],
      "execution_count": 2,
      "outputs": []
    },
    {
      "cell_type": "markdown",
      "source": [
        "### CNN model in Pytorch\n",
        "\n",
        "There are several ways to write a CNN model in pytorch. In this lab, you will be using the _Sequential_ class of pytorch (similarly to Tensorflow). We will see the syntax further on.\n",
        "\n"
      ],
      "metadata": {
        "id": "OHJ17JDiliHA"
      }
    },
    {
      "cell_type": "markdown",
      "metadata": {
        "id": "Q_S76Wi_W199"
      },
      "source": [
        "## Import data\n",
        "\n",
        "We first import MNIST dataset. We use the ```torch.utils.data.DataLoader``` function of Pytorch to easily iterate over mini-batches of data."
      ]
    },
    {
      "cell_type": "code",
      "metadata": {
        "id": "BrYw9LK9W19-",
        "colab": {
          "base_uri": "https://localhost:8080/"
        },
        "outputId": "a7ec5f1c-d38e-4c8f-9ace-d92fced2f053"
      },
      "source": [
        "# convert input to Pytorch tensors\n",
        "input_transform=transforms.Compose( [transforms.ToTensor()])\n",
        "# extract mnist data\n",
        "mnist_trainset = datasets.MNIST(root='./data',train=True,download=True,transform=input_transform)\n",
        "print(mnist_trainset)\n",
        "\n",
        "#create data loader with smaller dataset size\n",
        "max_mnist_size = 1000\n",
        "mnist_trainset_reduced = torch.utils.data.random_split(mnist_trainset, [max_mnist_size, len(mnist_trainset)-max_mnist_size])[0] \n",
        "mnist_train_loader = torch.utils.data.DataLoader(mnist_trainset_reduced, batch_size=256, shuffle=True)\n",
        "\n",
        "# download test dataset\n",
        "mnist_testset = datasets.MNIST(root='./data',train=False,download=True,transform=input_transform)\n",
        "mnist_test_loader = torch.utils.data.DataLoader(mnist_testset, batch_size=256, shuffle=True)\n",
        "\n",
        "# extract the actual data and labels\n",
        "X_train = torch.unsqueeze(mnist_trainset.data,axis=1)[0:max_mnist_size]/255.0\n",
        "Y_train = mnist_trainset.targets[0:max_mnist_size]\n",
        "X_test = torch.unsqueeze(mnist_testset.data,axis=1)/255.0\n",
        "Y_test = mnist_testset.targets\n"
      ],
      "execution_count": 3,
      "outputs": [
        {
          "output_type": "stream",
          "name": "stdout",
          "text": [
            "Dataset MNIST\n",
            "    Number of datapoints: 60000\n",
            "    Root location: ./data\n",
            "    Split: Train\n",
            "    StandardTransform\n",
            "Transform: Compose(\n",
            "               ToTensor()\n",
            "           )\n"
          ]
        }
      ]
    },
    {
      "cell_type": "markdown",
      "source": [
        "### Exploring the data\n",
        "\n",
        "The mnist data is downloaded into ```mnist_trainset```. We can explore the dataset manually, although when we will train it, we will use the ```DataLoader``` of Pytorch. ```torch.utils.data.DataLoader``` is a useful function to extract batches of data from a dataset, applying the transformations which we have specified (conversion to Pytorch tensor, normalisation etc).\n",
        "\n",
        "The images are contained in a sub-structure of ```mnist_trainset``` called ```data```. The labels are contained in another sub-structure of ```mnist_trainset``` called ```targets```. Note that these are kept in their native format (the transformations are not applied to them), so to use them we have to apply the transformation manually, as above.\n",
        "\n",
        "__NOTE__ In general, if you want to find out what a structure contains, use the command ```dir()```, this will give you a list of the sub-structures."
      ],
      "metadata": {
        "id": "Ss6fBjWrAS4U"
      }
    },
    {
      "cell_type": "code",
      "source": [
        "print(dir(mnist_trainset))\n",
        "\n",
        "print(\"Size of training data : \", mnist_trainset.data.shape)\n",
        "print(\"Size of training labels : \", mnist_trainset.targets.shape)\n"
      ],
      "metadata": {
        "id": "rMqnFhbH9bcq",
        "colab": {
          "base_uri": "https://localhost:8080/"
        },
        "outputId": "fcbdf658-0657-46eb-a172-bd0e626a648c"
      },
      "execution_count": 4,
      "outputs": [
        {
          "output_type": "stream",
          "name": "stdout",
          "text": [
            "['__add__', '__annotations__', '__class__', '__class_getitem__', '__delattr__', '__dict__', '__dir__', '__doc__', '__eq__', '__format__', '__ge__', '__getattr__', '__getattribute__', '__getitem__', '__gt__', '__hash__', '__init__', '__init_subclass__', '__le__', '__len__', '__lt__', '__module__', '__ne__', '__new__', '__orig_bases__', '__parameters__', '__reduce__', '__reduce_ex__', '__repr__', '__setattr__', '__sizeof__', '__slots__', '__str__', '__subclasshook__', '__weakref__', '_check_exists', '_check_legacy_exist', '_format_transform_repr', '_load_data', '_load_legacy_data', '_repr_indent', 'class_to_idx', 'classes', 'data', 'download', 'extra_repr', 'functions', 'mirrors', 'processed_folder', 'raw_folder', 'register_datapipe_as_function', 'register_function', 'resources', 'root', 'target_transform', 'targets', 'test_data', 'test_file', 'test_labels', 'train', 'train_data', 'train_labels', 'training_file', 'transform', 'transforms']\n",
            "Size of training data :  torch.Size([60000, 28, 28])\n",
            "Size of training labels :  torch.Size([60000])\n"
          ]
        }
      ]
    },
    {
      "cell_type": "markdown",
      "metadata": {
        "id": "MnTkYmu-W1-E"
      },
      "source": [
        "The mnist dataset has 10 classes. These are the following :"
      ]
    },
    {
      "cell_type": "code",
      "metadata": {
        "id": "kvJ7McU7W1-F"
      },
      "source": [
        "mnist_list = [ '0', '1','2','3','4','5','6','7','8','9']"
      ],
      "execution_count": 5,
      "outputs": []
    },
    {
      "cell_type": "markdown",
      "metadata": {
        "id": "6f_7d1NnW1-L"
      },
      "source": [
        "### Display some of the images"
      ]
    },
    {
      "cell_type": "code",
      "metadata": {
        "id": "9OcnfCwbW1-M",
        "colab": {
          "base_uri": "https://localhost:8080/",
          "height": 338
        },
        "outputId": "49a5cae3-feec-4d67-c37a-2019aff28dc4"
      },
      "source": [
        "plt.figure(figsize=(10, 6))\n",
        "for idx in range(0,10):\n",
        "    plt.subplot(2, 5, idx+1)\n",
        "    rand_ind = np.random.randint(0,mnist_trainset.data.shape[0])\n",
        "    plt.imshow(mnist_trainset.data[rand_ind,:,:],cmap='gray')\n",
        "    plt.title(mnist_list[int(mnist_trainset.targets[rand_ind])])"
      ],
      "execution_count": 6,
      "outputs": [
        {
          "output_type": "display_data",
          "data": {
            "text/plain": [
              "<Figure size 720x432 with 10 Axes>"
            ],
            "image/png": "[encoded data removed]"
          },
          "metadata": {
            "needs_background": "light"
          }
        }
      ]
    },
    {
      "cell_type": "markdown",
      "source": [
        "## Defining the model for MNIST\n",
        "\n",
        "We will now define the simple CNN described above, for use with MNIST. The input of the CNN is a set of (28,28,1) image tensors. We apply the following layers:\n",
        "\n",
        "    - a Convolutional layer of 32 filters of shape (3,3), with stride (1,1) and padding='same'\n",
        "    - a ReLu activation function\n",
        "    \n",
        "    - a Convolutional layer of 32 filters of shape (3,3), with stride (1,1) and padding='same'\n",
        "    - a ReLu activation function\n",
        "    - a Max Pooling Layer of shape (2,2) and stride (2,2) (i.e. we reduce by two the size in each dimension)\n",
        "    \n",
        "    - We then Flatten the data: reduce them to a vector in order to be able to apply a Fully-Connected layer to it\n",
        "    - Dense (fully connected) layer. Note, you will have to determine the input size, that is to say the number of elements after the last Max Pooling layer.\n",
        "\n",
        "__VERY IMPORTANT NOTE !!!__\n",
        "\n",
        "Pytorch carries out the softmax which we would expect at the end of our network automatically, so there is no need to add it. Nevertheless, you must understand that the output is a vector which is _not_ normalised to be a probability distributuion. This will be important later on.\n",
        "\n",
        "Now, we define the following hyper-parameters of the model :"
      ],
      "metadata": {
        "id": "YzRfY8QTBIX-"
      }
    },
    {
      "cell_type": "code",
      "source": [
        "learning_rate = 0.01\n",
        "n_epochs = 10\n",
        "batch_size = 64\n",
        "nb_classes = int(mnist_trainset.targets.max()+1)\n",
        "\n",
        "# number of convolutional filters to use\n",
        "nb_filters = 32\n",
        "# convolution kernel size\n",
        "kernel_size = (3, 3)\n",
        "# size of pooling area for max pooling\n",
        "pool_size = (2, 2)\n",
        "\n",
        "# --- Size of the successive layers\n",
        "n_h_0 = 1 #greyscale input images\n",
        "n_h_1 = nb_filters\n",
        "n_h_2 = nb_filters\n",
        "\n",
        "# --- Size of the input images\n",
        "imgSize = 28*28\n"
      ],
      "metadata": {
        "id": "3T9d8TYFBONz"
      },
      "execution_count": 7,
      "outputs": []
    },
    {
      "cell_type": "markdown",
      "metadata": {
        "id": "5MOihxZ-W1-W"
      },
      "source": [
        "# 1. Model 1 : defining a CNN with the Sequential API of Pytorch for MNIST\n",
        "\n",
        "We are now going to create the CNN with Pytorch.\n",
        "\n",
        "The Sequential approach is quite similar to that of Tensorflow. To define a model, just write:\n",
        "\n",
        "```my_model = torch.nn.Sequential( first_layer, second_layer, ...)```\n",
        "\n",
        "Each layer must be a function imported from the Pytorch. You can use the following functions:\n",
        "\n",
        "- ```torch.nn.Conv2d()```\n",
        "- ```torch.nn.ReLU()```\n",
        "- ```torch.nn.MaxPool2d()```\n",
        "- ```torch.nn.Flatten()```\n",
        "- ```torch.nn.Linear()```\n",
        "\n",
        "Look at the documentation online to find the correct parameters. For example:\n",
        "\n",
        "- https://pytorch.org/docs/stable/generated/torch.nn.Conv2d.html\n"
      ]
    },
    {
      "cell_type": "code",
      "metadata": {
        "id": "npx-4C1SW1-X"
      },
      "source": [
        "# BEGIN STUDENT CODE\n",
        "mnist_model = torch.nn.Sequential(\n",
        "    torch.nn.Conv2d(in_channels=n_h_0, out_channels=nb_filters, kernel_size=kernel_size,stride=(1,1), padding='same'),\n",
        "    torch.nn.ReLU(),\n",
        "    torch.nn.Conv2d(in_channels=n_h_1, out_channels=nb_filters, kernel_size=kernel_size, stride=(1,1), padding='same'),\n",
        "    torch.nn.ReLU(),\n",
        "    torch.nn.MaxPool2d(kernel_size=(2,2), stride=(2,2)),\n",
        "    torch.nn.Flatten(),\n",
        "    torch.nn.Linear(in_features=imgSize//4**1 * n_h_2, out_features=nb_classes)\n",
        ")\n",
        "# END STUDENT CODE"
      ],
      "execution_count": 8,
      "outputs": []
    },
    {
      "cell_type": "markdown",
      "source": [
        "### Define loss function and optimiser\n",
        "\n",
        "Pytorch provides an easy way to define the loss criterion to optimise. The syntax is (considering that the Adam optimiser is used):\n",
        "\n",
        "- ```criterion = torch.nn.BCELoss()``` or ```criterion = torch.nn.CrossEntropyLoss()```, etc., depending on your problem.\n",
        "- ```optimizer = torch.optim.Adam(mnist_model.parameters(), lr=learning_rate)```\n",
        "\n",
        "Fill in the following code, choosing the correct criterion to optimise."
      ],
      "metadata": {
        "id": "7FJS2SGeEwHF"
      }
    },
    {
      "cell_type": "code",
      "source": [
        "# BEGIN STUDENT CODE \n",
        "criterion = torch.nn.CrossEntropyLoss()\n",
        "optimizer = torch.optim.Adam(params=mnist_model.parameters(), lr=learning_rate)\n",
        "# END STUDENT CODE"
      ],
      "metadata": {
        "id": "AK1pxqFCE090"
      },
      "execution_count": 9,
      "outputs": []
    },
    {
      "cell_type": "markdown",
      "source": [
        "### CNN prediction conversion\n",
        "\n",
        "We recall here that the output of the classification CNN in Pytorch is a vector which is __NOT__ normalised to be a probability distribution. Therefore, for the purposes of finding the prediction of the CNN, we create a function which first converts an input vector to a probability distribution, and then determines the most likely class for each vector. The output should be, for each vector, an integer between 0 and (number of classes) $-1$.\n",
        "\n",
        "The inputs to this function will be Pytorch tensors, so you can use the following Pytorch functions on them :\n",
        "\n",
        "- ```torch.nn.Softmax()```\n",
        "- ```torch.argmax()```\n",
        "\n",
        "Create this function now."
      ],
      "metadata": {
        "id": "42zy2XwsNfTQ"
      }
    },
    {
      "cell_type": "code",
      "source": [
        "def vector_to_class(x):\n",
        "  # BEGIN STUDENT CODE\n",
        "  softmax = torch.nn.Softmax()\n",
        "  y = torch.argmax(softmax(x), dim=1)\n",
        "  # END STUDENT CODE\n",
        "  return y"
      ],
      "metadata": {
        "id": "TqCPink-N1LB"
      },
      "execution_count": 10,
      "outputs": []
    },
    {
      "cell_type": "markdown",
      "source": [
        "### Accuracy\n",
        "\n",
        "Now, define a function which calculates the accuracy of the output of the neural network, with respect to the input labels. We consider that the input is a vector of class numbers (the final prediction of the CNN)."
      ],
      "metadata": {
        "id": "sYzRpoTgGhpG"
      }
    },
    {
      "cell_type": "code",
      "source": [
        "def cnn_accuracy(predict,labels):\n",
        "  # BEGIN STUDENT CODE\n",
        "  accuracy = (predict == labels).sum()/labels.size(0)\n",
        "  # END STUDENT CODE\n",
        "  return accuracy"
      ],
      "metadata": {
        "id": "f4V5LKDhGsQT"
      },
      "execution_count": 11,
      "outputs": []
    },
    {
      "cell_type": "markdown",
      "metadata": {
        "id": "ljHi0tfiW1-h"
      },
      "source": [
        "## Training the model\n",
        "\n",
        "Now, we carry out the actual training of the model."
      ]
    },
    {
      "cell_type": "code",
      "metadata": {
        "id": "HVe9ZWAdW1-h",
        "colab": {
          "base_uri": "https://localhost:8080/"
        },
        "outputId": "b61b7f78-78f9-44f3-f7bf-0866b32a5235"
      },
      "source": [
        "train_losses=[]\n",
        "valid_losses=[]\n",
        "\n",
        "for epoch in range(0,n_epochs):\n",
        "  train_loss=0.0\n",
        "\n",
        "  for batch_idx, (imgs, labels) in enumerate(mnist_train_loader):\n",
        "\n",
        "    # set the gradients back to 0\n",
        "    optimizer.zero_grad()\n",
        "    predict=mnist_model(imgs) # FILL IN STUDENT\n",
        "    # apply loss function\n",
        "    loss=criterion(predict,labels)\n",
        "    # backpropagation\n",
        "    loss.backward()\n",
        "    optimizer.step()\n",
        "    train_loss=loss.item()\n",
        "  print('Epoch:{} Train Loss:{:.4f}'.format(epoch,train_loss/imgs.shape[0]))\n",
        "  # calculate accuracy\n",
        "\n",
        "  print('Accuracy:{:.4f}'.format(cnn_accuracy(vector_to_class(predict),labels)))"
      ],
      "execution_count": 12,
      "outputs": [
        {
          "output_type": "stream",
          "name": "stdout",
          "text": [
            "Epoch:0 Train Loss:0.0089\n",
            "Accuracy:0.5690\n"
          ]
        },
        {
          "output_type": "stream",
          "name": "stderr",
          "text": [
            "/usr/local/lib/python3.7/dist-packages/ipykernel_launcher.py:4: UserWarning: Implicit dimension choice for softmax has been deprecated. Change the call to include dim=X as an argument.\n",
            "  after removing the cwd from sys.path.\n"
          ]
        },
        {
          "output_type": "stream",
          "name": "stdout",
          "text": [
            "Epoch:1 Train Loss:0.0043\n",
            "Accuracy:0.6724\n",
            "Epoch:2 Train Loss:0.0027\n",
            "Accuracy:0.7888\n",
            "Epoch:3 Train Loss:0.0024\n",
            "Accuracy:0.8448\n",
            "Epoch:4 Train Loss:0.0017\n",
            "Accuracy:0.8664\n",
            "Epoch:5 Train Loss:0.0011\n",
            "Accuracy:0.9310\n",
            "Epoch:6 Train Loss:0.0009\n",
            "Accuracy:0.9397\n",
            "Epoch:7 Train Loss:0.0005\n",
            "Accuracy:0.9655\n",
            "Epoch:8 Train Loss:0.0004\n",
            "Accuracy:0.9698\n",
            "Epoch:9 Train Loss:0.0003\n",
            "Accuracy:0.9741\n"
          ]
        }
      ]
    },
    {
      "cell_type": "code",
      "source": [
        "# Calculate accuracy on the training set and the test set\n",
        "\n",
        "# BEGIN FILL IN STUDENT (use X_train, Y_train, X_test, Y_test)\n",
        "predict_train = mnist_model(X_train)\n",
        "predict_test = mnist_model(X_test)\n",
        "\n",
        "\n",
        "train_accuracy = cnn_accuracy(vector_to_class(predict_train), Y_train)\n",
        "test_accuracy = cnn_accuracy(vector_to_class(predict_test), Y_test)\n",
        "# END FILL IN STUDENT\n",
        "print(\"Train Accuracy:\", train_accuracy)\n",
        "print(\"Test Accuracy:\", test_accuracy)"
      ],
      "metadata": {
        "id": "rOsF40hkEqx1",
        "colab": {
          "base_uri": "https://localhost:8080/"
        },
        "outputId": "679f4a0a-0b32-4684-cdbd-d239972c53d3"
      },
      "execution_count": 13,
      "outputs": [
        {
          "output_type": "stream",
          "name": "stdout",
          "text": [
            "Train Accuracy: tensor(0.9040)\n",
            "Test Accuracy: tensor(0.9031)\n"
          ]
        },
        {
          "output_type": "stream",
          "name": "stderr",
          "text": [
            "/usr/local/lib/python3.7/dist-packages/ipykernel_launcher.py:4: UserWarning: Implicit dimension choice for softmax has been deprecated. Change the call to include dim=X as an argument.\n",
            "  after removing the cwd from sys.path.\n"
          ]
        }
      ]
    },
    {
      "cell_type": "code",
      "source": [
        "print(\"Visual results : \")\n",
        "\n",
        "plt.figure(figsize=(10, 6))\n",
        "for idx in range(0,10):\n",
        "    plt.subplot(2, 5, idx+1)\n",
        "    rand_ind = np.random.randint(0,X_test.shape[0])\n",
        "    test_img = torch.unsqueeze(X_test[rand_ind,:,:,:],axis=1)\n",
        "    predicted_class = vector_to_class(mnist_model(test_img))\n",
        "    plt.imshow(test_img.squeeze(),cmap='gray')\n",
        "    plt.title(mnist_list[int(predicted_class)])"
      ],
      "metadata": {
        "id": "cRxCNvMO5Yzm",
        "colab": {
          "base_uri": "https://localhost:8080/",
          "height": 410
        },
        "outputId": "000603c2-fce4-4df2-d14e-f7563e843f46"
      },
      "execution_count": 14,
      "outputs": [
        {
          "output_type": "stream",
          "name": "stderr",
          "text": [
            "/usr/local/lib/python3.7/dist-packages/ipykernel_launcher.py:4: UserWarning: Implicit dimension choice for softmax has been deprecated. Change the call to include dim=X as an argument.\n",
            "  after removing the cwd from sys.path.\n"
          ]
        },
        {
          "output_type": "stream",
          "name": "stdout",
          "text": [
            "Visual results : \n"
          ]
        },
        {
          "output_type": "display_data",
          "data": {
            "text/plain": [
              "<Figure size 720x432 with 10 Axes>"
            ],
            "image/png": "[encoded data removed]"
          },
          "metadata": {
            "needs_background": "light"
          }
        }
      ]
    },
    {
      "cell_type": "markdown",
      "metadata": {
        "id": "M5D5BY20W1-m"
      },
      "source": [
        "## Model 2: create a CNN on CIFAR10\n",
        "\n",
        "We are now going to train the same network architecture on a more difficult dataset : CIFAR10\n",
        "\n",
        "First, we import the CIFAR10 data and carry out some pre-processing :"
      ]
    },
    {
      "cell_type": "code",
      "metadata": {
        "id": "k15abDeRW1-m",
        "colab": {
          "base_uri": "https://localhost:8080/"
        },
        "outputId": "29ee690b-50dd-4d60-e063-5b7f13bc9569"
      },
      "source": [
        "# convert input to Pytorch tensors\n",
        "input_transform=transforms.Compose( [transforms.ToTensor()])\n",
        "# extract mnist data\n",
        "cifar_trainset = datasets.CIFAR10(root='./data',train=True,download=True,transform=input_transform)\n",
        "print(cifar_trainset)\n",
        "\n",
        "#create data loader with smaller dataset size\n",
        "max_cifar_size = 2000\n",
        "cifar_trainset_reduced = torch.utils.data.random_split(cifar_trainset, [max_cifar_size, len(cifar_trainset)-max_cifar_size])[0] \n",
        "cifar_train_loader = torch.utils.data.DataLoader(cifar_trainset_reduced, batch_size=256, shuffle=True)\n",
        "\n",
        "# download test dataset\n",
        "cifar_testset = datasets.CIFAR10(root='./data',train=False,download=True,transform=input_transform)\n",
        "cifar_test_loader = torch.utils.data.DataLoader(cifar_testset, batch_size=256, shuffle=True)\n",
        "\n",
        "# extract the actual data and labels\n",
        "X_train = cifar_trainset.data[0:max_cifar_size]/255.0\n",
        "Y_train = cifar_trainset.targets[0:max_cifar_size]\n",
        "X_test = cifar_testset.data/255.0\n",
        "Y_test = cifar_testset.targets\n",
        "\n",
        "nb_channels = X_train.shape[-1]\n"
      ],
      "execution_count": 15,
      "outputs": [
        {
          "output_type": "stream",
          "name": "stdout",
          "text": [
            "Files already downloaded and verified\n",
            "Dataset CIFAR10\n",
            "    Number of datapoints: 50000\n",
            "    Root location: ./data\n",
            "    Split: Train\n",
            "    StandardTransform\n",
            "Transform: Compose(\n",
            "               ToTensor()\n",
            "           )\n",
            "Files already downloaded and verified\n"
          ]
        }
      ]
    },
    {
      "cell_type": "code",
      "source": [
        "# the CIFAR10 categories\n",
        "cifar_10_list = [ 'airplane', 'automobile','bird','cat','deer','dog','frog','horse','ship','truck']\n",
        "\n",
        "#modify the number of input channels \n",
        "n_h_0 = nb_channels\n",
        "# add more epochs\n",
        "n_epochs = 30"
      ],
      "metadata": {
        "id": "5Al5b-S37T4A"
      },
      "execution_count": 16,
      "outputs": []
    },
    {
      "cell_type": "markdown",
      "metadata": {
        "id": "WpM3zdF_W1-x"
      },
      "source": [
        "### Display some of the images"
      ]
    },
    {
      "cell_type": "code",
      "metadata": {
        "id": "PeFaoz2AW1-y",
        "colab": {
          "base_uri": "https://localhost:8080/",
          "height": 338
        },
        "outputId": "8d7f2013-3fb7-4773-b2ef-cbeb51ef5782"
      },
      "source": [
        "plt.figure(figsize=(10, 6))\n",
        "for idx in range(0,10):\n",
        "    plt.subplot(2, 5, idx+1)\n",
        "    rand_ind = np.random.randint(0,X_test.shape[0])\n",
        "    plt.imshow(X_test[rand_ind,:,:,:])\n",
        "    plt.title(cifar_10_list[int(Y_test[rand_ind])])"
      ],
      "execution_count": 17,
      "outputs": [
        {
          "output_type": "display_data",
          "data": {
            "text/plain": [
              "<Figure size 720x432 with 10 Axes>"
            ],
            "image/png": "[encoded data removed]"
          },
          "metadata": {
            "needs_background": "light"
          }
        }
      ]
    },
    {
      "cell_type": "markdown",
      "metadata": {
        "id": "XrGI_L3OW1-3"
      },
      "source": [
        "## Define the architecture again, for CIFAR10\n",
        "\n",
        "In this case, we are going to add a layer because the data is more complex. Therefore, we use the following architecture :\n",
        "\n",
        "    - a Convolutional layer of 32 filters of shape (3,3), with stride (1,1) and padding='same' (i.e. we do not apply zero-padding)\n",
        "    - additive biases\n",
        "    - a ReLu activation function\n",
        "    \n",
        "    - a Convolutional layer of 32 filters of shape (3,3), with stride (1,1) and padding='same' (i.e. we do not apply zero-padding)\n",
        "    - additive biases\n",
        "    - a ReLu activation function\n",
        "    - a Max Pooling Layer of shape (2,2) and stride (2,2) (i.e. we reduce by two the size in each dimension)\n",
        "    \n",
        "    - a Convolutional layer of 32 filters of shape (3,3), with stride (1,1) and padding='same' (i.e. we do not apply zero-padding)\n",
        "    - additive biases\n",
        "    - a ReLu activation function\n",
        "    - a Max Pooling Layer of shape (2,2) and stride (2,2) (i.e. we reduce by two the size in each dimension)\n",
        "    \n",
        "    - We then Flatten the data (reduce them to a vector in order to be able to apply a Fully-Connected layer to it)\n",
        "    - Dense (fully connected) layer. Note, you will have to determine the input size, that is to say the number of elements after the last Max Pooling layer.\n",
        "    - ReLU activation function\n",
        "    - Dense (fully connected) layer"
      ]
    },
    {
      "cell_type": "code",
      "metadata": {
        "id": "OEs-EnXLW1-4"
      },
      "source": [
        "learning_rate = 0.01\n",
        "n_epochs = 50\n",
        "batch_size = 64\n",
        "\n",
        "# number of convolutional filters to use\n",
        "nb_filters = 32\n",
        "# convolution kernel size\n",
        "kernel_size = (3, 3)\n",
        "# size of pooling area for max pooling\n",
        "pool_size = (2, 2)\n",
        "# number of classes\n",
        "nb_classes = len(cifar_10_list)\n",
        "# image dimensions\n",
        "img_size = X_train.shape[1]*X_train.shape[2]\n",
        "\n",
        "\n",
        "# --- Size of the successive layers\n",
        "n_h_0 = nb_channels\n",
        "n_h_1 = nb_filters\n",
        "n_h_2 = nb_filters\n",
        "n_h_3 = nb_filters"
      ],
      "execution_count": 18,
      "outputs": []
    },
    {
      "cell_type": "markdown",
      "metadata": {
        "id": "I0ACZkTFW1-7"
      },
      "source": [
        "Now, modify the previous code (you can copy/paste/modify the necessary parts) to define the model for CIFAR10."
      ]
    },
    {
      "cell_type": "code",
      "metadata": {
        "id": "RmbX6oq0W1-7"
      },
      "source": [
        "# BEGIN STUDENT CODE\n",
        "\n",
        "cifar_model = torch.nn.Sequential(\n",
        "    torch.nn.Conv2d(in_channels=n_h_0, out_channels=nb_filters, kernel_size=kernel_size,stride=(1,1), padding='same', bias=True),\n",
        "    torch.nn.ReLU(),\n",
        "    \n",
        "    torch.nn.Conv2d(in_channels=n_h_1, out_channels=nb_filters, kernel_size=kernel_size,stride=(1,1), padding='same', bias=True),\n",
        "    torch.nn.ReLU(),\n",
        "    torch.nn.MaxPool2d(kernel_size=pool_size, stride=(2,2)),\n",
        "\n",
        "    torch.nn.Conv2d(in_channels=n_h_2, out_channels=nb_filters, kernel_size=kernel_size,stride=(1,1), padding='same', bias=True),\n",
        "    torch.nn.ReLU(),\n",
        "    torch.nn.MaxPool2d(kernel_size=pool_size, stride=(2,2)),\n",
        "\n",
        "    torch.nn.Flatten(),\n",
        "    torch.nn.Linear(in_features=img_size//4**2 * n_h_3, out_features=img_size//4**2 * n_h_3),\n",
        "    torch.nn.ReLU(),\n",
        "    torch.nn.Linear(in_features=img_size//4**2 * n_h_3, out_features=nb_classes)\n",
        ")\n",
        "\n",
        "criterion = torch.nn.CrossEntropyLoss()\n",
        "optimizer = torch.optim.Adam(cifar_model.parameters(), lr=learning_rate)\n",
        "# END STUDENT CODE"
      ],
      "execution_count": 19,
      "outputs": []
    },
    {
      "cell_type": "markdown",
      "source": [
        "Now, carry out training on the CIFAR10 dataset (use the previous code as an example)."
      ],
      "metadata": {
        "id": "KUmQKIEe8_QU"
      }
    },
    {
      "cell_type": "code",
      "source": [
        "# BEGIN STUDENT CODE\n",
        "train_losses=[]\n",
        "valid_losses=[]\n",
        "\n",
        "for epoch in range(0,n_epochs):\n",
        "  train_loss=0.0\n",
        "\n",
        "  for batch_idx, (imgs, labels) in enumerate(cifar_train_loader):\n",
        "\n",
        "    # set the gradients back to 0\n",
        "    optimizer.zero_grad()\n",
        "    predict=cifar_model(imgs) # FILL IN STUDENT\n",
        "    # apply loss function\n",
        "    loss=criterion(predict,labels)\n",
        "    # backpropagation\n",
        "    loss.backward()\n",
        "    optimizer.step()\n",
        "    train_loss=loss.item()\n",
        "  print('Epoch:{} Train Loss:{:.4f}'.format(epoch,train_loss/imgs.shape[0]))\n",
        "  # calculate accuracy\n",
        "\n",
        "  print('Accuracy:{:.4f}'.format(cnn_accuracy(vector_to_class(predict),labels)))\n",
        "# END STUDENT CODE"
      ],
      "metadata": {
        "id": "pyEwLnLR9gv0",
        "colab": {
          "base_uri": "https://localhost:8080/"
        },
        "outputId": "f35ecb1e-84ab-4c71-98cc-e2fae1cbc818"
      },
      "execution_count": 20,
      "outputs": [
        {
          "output_type": "stream",
          "name": "stdout",
          "text": [
            "Epoch:0 Train Loss:0.0110\n",
            "Accuracy:0.0817\n"
          ]
        },
        {
          "output_type": "stream",
          "name": "stderr",
          "text": [
            "/usr/local/lib/python3.7/dist-packages/ipykernel_launcher.py:4: UserWarning: Implicit dimension choice for softmax has been deprecated. Change the call to include dim=X as an argument.\n",
            "  after removing the cwd from sys.path.\n"
          ]
        },
        {
          "output_type": "stream",
          "name": "stdout",
          "text": [
            "Epoch:1 Train Loss:0.0108\n",
            "Accuracy:0.1587\n",
            "Epoch:2 Train Loss:0.0107\n",
            "Accuracy:0.2067\n",
            "Epoch:3 Train Loss:0.0106\n",
            "Accuracy:0.2404\n",
            "Epoch:4 Train Loss:0.0100\n",
            "Accuracy:0.2548\n",
            "Epoch:5 Train Loss:0.0099\n",
            "Accuracy:0.2644\n",
            "Epoch:6 Train Loss:0.0095\n",
            "Accuracy:0.2981\n",
            "Epoch:7 Train Loss:0.0090\n",
            "Accuracy:0.3365\n",
            "Epoch:8 Train Loss:0.0093\n",
            "Accuracy:0.3221\n",
            "Epoch:9 Train Loss:0.0089\n",
            "Accuracy:0.3606\n",
            "Epoch:10 Train Loss:0.0085\n",
            "Accuracy:0.3317\n",
            "Epoch:11 Train Loss:0.0085\n",
            "Accuracy:0.3654\n",
            "Epoch:12 Train Loss:0.0080\n",
            "Accuracy:0.4038\n",
            "Epoch:13 Train Loss:0.0069\n",
            "Accuracy:0.4808\n",
            "Epoch:14 Train Loss:0.0072\n",
            "Accuracy:0.4423\n",
            "Epoch:15 Train Loss:0.0067\n",
            "Accuracy:0.5144\n",
            "Epoch:16 Train Loss:0.0053\n",
            "Accuracy:0.6202\n",
            "Epoch:17 Train Loss:0.0060\n",
            "Accuracy:0.5385\n",
            "Epoch:18 Train Loss:0.0058\n",
            "Accuracy:0.5865\n",
            "Epoch:19 Train Loss:0.0048\n",
            "Accuracy:0.6394\n",
            "Epoch:20 Train Loss:0.0042\n",
            "Accuracy:0.7019\n",
            "Epoch:21 Train Loss:0.0034\n",
            "Accuracy:0.7692\n",
            "Epoch:22 Train Loss:0.0031\n",
            "Accuracy:0.7740\n",
            "Epoch:23 Train Loss:0.0032\n",
            "Accuracy:0.8029\n",
            "Epoch:24 Train Loss:0.0028\n",
            "Accuracy:0.8077\n",
            "Epoch:25 Train Loss:0.0026\n",
            "Accuracy:0.8125\n",
            "Epoch:26 Train Loss:0.0020\n",
            "Accuracy:0.8702\n",
            "Epoch:27 Train Loss:0.0017\n",
            "Accuracy:0.8942\n",
            "Epoch:28 Train Loss:0.0012\n",
            "Accuracy:0.9231\n",
            "Epoch:29 Train Loss:0.0012\n",
            "Accuracy:0.9231\n",
            "Epoch:30 Train Loss:0.0010\n",
            "Accuracy:0.9327\n",
            "Epoch:31 Train Loss:0.0008\n",
            "Accuracy:0.9519\n",
            "Epoch:32 Train Loss:0.0009\n",
            "Accuracy:0.9567\n",
            "Epoch:33 Train Loss:0.0012\n",
            "Accuracy:0.9423\n",
            "Epoch:34 Train Loss:0.0008\n",
            "Accuracy:0.9471\n",
            "Epoch:35 Train Loss:0.0008\n",
            "Accuracy:0.9567\n",
            "Epoch:36 Train Loss:0.0016\n",
            "Accuracy:0.8894\n",
            "Epoch:37 Train Loss:0.0009\n",
            "Accuracy:0.9231\n",
            "Epoch:38 Train Loss:0.0008\n",
            "Accuracy:0.9615\n",
            "Epoch:39 Train Loss:0.0009\n",
            "Accuracy:0.9327\n",
            "Epoch:40 Train Loss:0.0010\n",
            "Accuracy:0.9615\n",
            "Epoch:41 Train Loss:0.0003\n",
            "Accuracy:0.9904\n",
            "Epoch:42 Train Loss:0.0002\n",
            "Accuracy:0.9904\n",
            "Epoch:43 Train Loss:0.0003\n",
            "Accuracy:0.9904\n",
            "Epoch:44 Train Loss:0.0003\n",
            "Accuracy:0.9760\n",
            "Epoch:45 Train Loss:0.0002\n",
            "Accuracy:0.9856\n",
            "Epoch:46 Train Loss:0.0002\n",
            "Accuracy:0.9856\n",
            "Epoch:47 Train Loss:0.0001\n",
            "Accuracy:0.9952\n",
            "Epoch:48 Train Loss:0.0000\n",
            "Accuracy:1.0000\n",
            "Epoch:49 Train Loss:0.0001\n",
            "Accuracy:0.9904\n"
          ]
        }
      ]
    },
    {
      "cell_type": "code",
      "source": [
        "# Calculate accuracy on the training set and the test set\n",
        "\n",
        "# BEGIN FILL IN STUDENT (use X_train, Y_train, X_test, Y_test)\n",
        "X_train_tensor = torch.from_numpy(np.moveaxis(X_train, -1, 1)).float()\n",
        "X_test_tensor = torch.from_numpy(np.moveaxis(X_test, -1, 1)).float()\n",
        "\n",
        "Y_train_tensor = torch.tensor(Y_train)\n",
        "Y_test_tensor = torch.tensor(Y_test)\n",
        "\n",
        "predict_train = cifar_model(X_train_tensor)\n",
        "predict_test = cifar_model(X_test_tensor)\n",
        "\n",
        "train_accuracy = cnn_accuracy(vector_to_class(predict_train), Y_train_tensor)\n",
        "test_accuracy = cnn_accuracy(vector_to_class(predict_test), Y_test_tensor)\n",
        "# END FILL IN STUDENT\n",
        "print(\"Train Accuracy:\", train_accuracy)\n",
        "print(\"Test Accuracy:\", test_accuracy)"
      ],
      "metadata": {
        "colab": {
          "base_uri": "https://localhost:8080/"
        },
        "id": "DeuDJsJx4cYw",
        "outputId": "07e8d88c-b48d-4a55-c576-4d8210f0cf82"
      },
      "execution_count": 21,
      "outputs": [
        {
          "output_type": "stream",
          "name": "stdout",
          "text": [
            "Train Accuracy: tensor(0.3750)\n",
            "Test Accuracy: tensor(0.3448)\n"
          ]
        },
        {
          "output_type": "stream",
          "name": "stderr",
          "text": [
            "/usr/local/lib/python3.7/dist-packages/ipykernel_launcher.py:4: UserWarning: Implicit dimension choice for softmax has been deprecated. Change the call to include dim=X as an argument.\n",
            "  after removing the cwd from sys.path.\n"
          ]
        }
      ]
    },
    {
      "cell_type": "markdown",
      "metadata": {
        "id": "afxhSlTZW1_A"
      },
      "source": [
        " What do you think about the results (better or worse than MNIST) ? Why do you think this is ? How could you improve the results ?"
      ]
    },
    {
      "cell_type": "markdown",
      "source": [
        "**Answer:** The results are way worse than MNIST. The network is probably overfitting to the \"reduced trainset\" that was used to train it. Notice that the train set that I've used for testing is not the same train set that was used in the learning process¹. That's probably the main reason why the result is so much worse.  \\\\\n",
        "Overfitting usually means that our model is too complex for the problem. To fix this mode, we could use a technique such as weight decay or dropout.\n",
        "\n",
        "* ¹Note: I've used the same comparison process that was given for the MNIST test, but I didn't understand why we create the vectors X_train and Y_train being different from the \"reduced trainset\" that's used to train the model. Shouldn't they comprehend the same data?"
      ],
      "metadata": {
        "id": "lPBgWO-vv2Qo"
      }
    },
    {
      "cell_type": "markdown",
      "metadata": {
        "id": "sIvS5eHEW1_A"
      },
      "source": [
        "## Visualising the convolutional weights\n",
        "\n",
        "You can explore the network parameters easily with Pytroch. Indeed, your model ```cifar_model``` is simply a list of layers, thus you can access the first layer with :\n",
        "- ```cifar_model[0]```\n",
        "\n",
        "If you want to find out the contents of this layer, use :\n",
        "\n",
        "```dir(cifar_model[0])```\n",
        "\n",
        "In particular, the convolutional weights are contained in the ```weights``` sub-structure (a multi-dimensional array). Note that this weight's size is : \n",
        "\n",
        "- $[n_{filters}, y_{size}, x_{size},n_{channels}]$\n",
        "\n",
        "Now, display all (32) trained filters of the first convolutional layer, taking only the first channel of each filter :"
      ]
    },
    {
      "cell_type": "code",
      "source": [
        "plt.figure(figsize=(10, 6))\n",
        "for num in range(0,32):\n",
        "    plt.subplot(8, 4, num+1)\n",
        "    # --- START CODE HERE\n",
        "    plt.imshow( (cifar_model[0].weight[num, :, :, :]).detach().numpy(),cmap='gray')\n",
        "    # --- END CODE HERE    "
      ],
      "metadata": {
        "id": "BahI3aUN-3fG",
        "colab": {
          "base_uri": "https://localhost:8080/",
          "height": 930
        },
        "outputId": "7316cbef-b537-4d52-bff4-1ad2c1964d7e"
      },
      "execution_count": 22,
      "outputs": [
        {
          "output_type": "stream",
          "name": "stderr",
          "text": [
            "Clipping input data to the valid range for imshow with RGB data ([0..1] for floats or [0..255] for integers).\n",
            "Clipping input data to the valid range for imshow with RGB data ([0..1] for floats or [0..255] for integers).\n",
            "Clipping input data to the valid range for imshow with RGB data ([0..1] for floats or [0..255] for integers).\n",
            "Clipping input data to the valid range for imshow with RGB data ([0..1] for floats or [0..255] for integers).\n",
            "Clipping input data to the valid range for imshow with RGB data ([0..1] for floats or [0..255] for integers).\n",
            "Clipping input data to the valid range for imshow with RGB data ([0..1] for floats or [0..255] for integers).\n",
            "Clipping input data to the valid range for imshow with RGB data ([0..1] for floats or [0..255] for integers).\n",
            "Clipping input data to the valid range for imshow with RGB data ([0..1] for floats or [0..255] for integers).\n",
            "Clipping input data to the valid range for imshow with RGB data ([0..1] for floats or [0..255] for integers).\n",
            "Clipping input data to the valid range for imshow with RGB data ([0..1] for floats or [0..255] for integers).\n",
            "Clipping input data to the valid range for imshow with RGB data ([0..1] for floats or [0..255] for integers).\n",
            "Clipping input data to the valid range for imshow with RGB data ([0..1] for floats or [0..255] for integers).\n",
            "Clipping input data to the valid range for imshow with RGB data ([0..1] for floats or [0..255] for integers).\n",
            "Clipping input data to the valid range for imshow with RGB data ([0..1] for floats or [0..255] for integers).\n",
            "Clipping input data to the valid range for imshow with RGB data ([0..1] for floats or [0..255] for integers).\n",
            "Clipping input data to the valid range for imshow with RGB data ([0..1] for floats or [0..255] for integers).\n",
            "Clipping input data to the valid range for imshow with RGB data ([0..1] for floats or [0..255] for integers).\n",
            "Clipping input data to the valid range for imshow with RGB data ([0..1] for floats or [0..255] for integers).\n",
            "Clipping input data to the valid range for imshow with RGB data ([0..1] for floats or [0..255] for integers).\n",
            "Clipping input data to the valid range for imshow with RGB data ([0..1] for floats or [0..255] for integers).\n",
            "Clipping input data to the valid range for imshow with RGB data ([0..1] for floats or [0..255] for integers).\n",
            "Clipping input data to the valid range for imshow with RGB data ([0..1] for floats or [0..255] for integers).\n",
            "Clipping input data to the valid range for imshow with RGB data ([0..1] for floats or [0..255] for integers).\n",
            "Clipping input data to the valid range for imshow with RGB data ([0..1] for floats or [0..255] for integers).\n",
            "Clipping input data to the valid range for imshow with RGB data ([0..1] for floats or [0..255] for integers).\n",
            "Clipping input data to the valid range for imshow with RGB data ([0..1] for floats or [0..255] for integers).\n",
            "Clipping input data to the valid range for imshow with RGB data ([0..1] for floats or [0..255] for integers).\n",
            "Clipping input data to the valid range for imshow with RGB data ([0..1] for floats or [0..255] for integers).\n",
            "Clipping input data to the valid range for imshow with RGB data ([0..1] for floats or [0..255] for integers).\n",
            "Clipping input data to the valid range for imshow with RGB data ([0..1] for floats or [0..255] for integers).\n",
            "Clipping input data to the valid range for imshow with RGB data ([0..1] for floats or [0..255] for integers).\n",
            "Clipping input data to the valid range for imshow with RGB data ([0..1] for floats or [0..255] for integers).\n"
          ]
        },
        {
          "output_type": "display_data",
          "data": {
            "text/plain": [
              "<Figure size 720x432 with 32 Axes>"
            ],
            "image/png": "[encoded data removed]"
          },
          "metadata": {
            "needs_background": "light"
          }
        }
      ]
    },
    {
      "cell_type": "markdown",
      "source": [
        "What do you think ? Pretty incomprehensible no ? Do not spend too long trying to interpret these filters, that way madness lies. Indeed, they say that you can find some researchers locked in their offices staring at convolutional filters, trying to find some semblance of meaning ...\n",
        "\n",
        "So, it seems that understanding a CNN by just looking at the filters is an exercise in futility. How can we do better ? Well, take a look at part 2 of the lab !"
      ],
      "metadata": {
        "id": "zX6yNSiKBXDH"
      }
    }
  ]
}